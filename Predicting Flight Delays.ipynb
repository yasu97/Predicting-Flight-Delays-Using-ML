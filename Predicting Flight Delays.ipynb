{
 "cells": [
  {
   "cell_type": "code",
   "execution_count": null,
   "metadata": {
    "cell_id": "62bca10f5e684bd290485d94598f3072",
    "deepnote_cell_type": "code",
    "deepnote_to_be_reexecuted": false,
    "execution_millis": 903,
    "execution_start": 1711504430880,
    "source_hash": null
   },
   "outputs": [],
   "source": [
    "# Import all required packages\n",
    "\n",
    "import pandas as pd\n",
    "import numpy as np\n",
    "import math\n",
    "import matplotlib.pylab as plt\n",
    "import seaborn as sns\n",
    "from sklearn import metrics\n",
    "from sklearn import preprocessing\n",
    "from sklearn.model_selection import train_test_split\n",
    "from sklearn.preprocessing import StandardScaler\n",
    "from sklearn.preprocessing import LabelEncoder\n",
    "from sklearn.neighbors import KNeighborsClassifier\n",
    "from sklearn.metrics import accuracy_score\n",
    "from sklearn.naive_bayes import MultinomialNB\n",
    "from sklearn.ensemble import RandomForestClassifier\n",
    "from sklearn.metrics import classification_report, confusion_matrix"
   ]
  },
  {
   "cell_type": "code",
   "execution_count": null,
   "metadata": {
    "cell_id": "f61d060a50cf49dea2671f8df168bd46",
    "deepnote_cell_type": "code",
    "deepnote_to_be_reexecuted": false,
    "execution_millis": 155,
    "execution_start": 1711504431788,
    "source_hash": null
   },
   "outputs": [],
   "source": [
    "# Read the data file\n",
    "delays_df = pd.read_csv(\"FlightDelays.csv\")"
   ]
  },
  {
   "cell_type": "markdown",
   "metadata": {
    "cell_id": "d49f7315ff9e4cac80aff1073f18a66b",
    "deepnote_cell_type": "markdown"
   },
   "source": [
    "# Data transformation and cleaning"
   ]
  },
  {
   "cell_type": "code",
   "execution_count": null,
   "metadata": {
    "cell_id": "434a96f7484742e4ab4738a0a35601b6",
    "deepnote_cell_type": "code",
    "deepnote_table_loading": false,
    "deepnote_table_state": {
     "filters": [],
     "pageIndex": 219,
     "pageSize": 10,
     "sortBy": []
    },
    "deepnote_to_be_reexecuted": false,
    "execution_millis": 163,
    "execution_start": 1711504431947,
    "source_hash": null
   },
   "outputs": [
    {
     "data": {
      "application/vnd.deepnote.dataframe.v3+json": {
       "column_count": 13,
       "columns": [
        {
         "dtype": "int64",
         "name": "CRS_DEP_TIME",
         "stats": {
          "histogram": [
           {
            "bin_end": 753,
            "bin_start": 600,
            "count": 259
           },
           {
            "bin_end": 906,
            "bin_start": 753,
            "count": 241
           },
           {
            "bin_end": 1059,
            "bin_start": 906,
            "count": 131
           },
           {
            "bin_end": 1212,
            "bin_start": 1059,
            "count": 90
           },
           {
            "bin_end": 1365,
            "bin_start": 1212,
            "count": 277
           },
           {
            "bin_end": 1518,
            "bin_start": 1365,
            "count": 318
           },
           {
            "bin_end": 1671,
            "bin_start": 1518,
            "count": 250
           },
           {
            "bin_end": 1824,
            "bin_start": 1671,
            "count": 268
           },
           {
            "bin_end": 1977,
            "bin_start": 1824,
            "count": 177
           },
           {
            "bin_end": 2130,
            "bin_start": 1977,
            "count": 190
           }
          ],
          "max": "2130",
          "min": "600",
          "nan_count": 0,
          "unique_count": 59
         }
        },
        {
         "dtype": "object",
         "name": "CARRIER",
         "stats": {
          "categories": [
           {
            "count": 551,
            "name": "DH"
           },
           {
            "count": 408,
            "name": "RU"
           },
           {
            "count": 1242,
            "name": "6 others"
           }
          ],
          "nan_count": 0,
          "unique_count": 8
         }
        },
        {
         "dtype": "int64",
         "name": "DEP_TIME",
         "stats": {
          "histogram": [
           {
            "bin_end": 242,
            "bin_start": 10,
            "count": 2
           },
           {
            "bin_end": 474,
            "bin_start": 242,
            "count": 0
           },
           {
            "bin_end": 706,
            "bin_start": 474,
            "count": 203
           },
           {
            "bin_end": 938,
            "bin_start": 706,
            "count": 316
           },
           {
            "bin_end": 1170,
            "bin_start": 938,
            "count": 197
           },
           {
            "bin_end": 1402,
            "bin_start": 1170,
            "count": 311
           },
           {
            "bin_end": 1634,
            "bin_start": 1402,
            "count": 461
           },
           {
            "bin_end": 1866,
            "bin_start": 1634,
            "count": 441
           },
           {
            "bin_end": 2098,
            "bin_start": 1866,
            "count": 167
           },
           {
            "bin_end": 2330,
            "bin_start": 2098,
            "count": 103
           }
          ],
          "max": "2330",
          "min": "10",
          "nan_count": 0,
          "unique_count": 633
         }
        },
        {
         "dtype": "object",
         "name": "DEST",
         "stats": {
          "categories": [
           {
            "count": 1150,
            "name": "LGA"
           },
           {
            "count": 665,
            "name": "EWR"
           },
           {
            "count": 386,
            "name": "JFK"
           }
          ],
          "nan_count": 0,
          "unique_count": 3
         }
        },
        {
         "dtype": "int64",
         "name": "DISTANCE",
         "stats": {
          "histogram": [
           {
            "bin_end": 175,
            "bin_start": 169,
            "count": 115
           },
           {
            "bin_end": 181,
            "bin_start": 175,
            "count": 0
           },
           {
            "bin_end": 187,
            "bin_start": 181,
            "count": 30
           },
           {
            "bin_end": 193,
            "bin_start": 187,
            "count": 0
           },
           {
            "bin_end": 199,
            "bin_start": 193,
            "count": 0
           },
           {
            "bin_end": 205,
            "bin_start": 199,
            "count": 256
           },
           {
            "bin_end": 211,
            "bin_start": 205,
            "count": 0
           },
           {
            "bin_end": 217,
            "bin_start": 211,
            "count": 1408
           },
           {
            "bin_end": 223,
            "bin_start": 217,
            "count": 0
           },
           {
            "bin_end": 229,
            "bin_start": 223,
            "count": 392
           }
          ],
          "max": "229",
          "min": "169",
          "nan_count": 0,
          "unique_count": 7
         }
        },
        {
         "dtype": "object",
         "name": "FL_DATE",
         "stats": {
          "categories": [
           {
            "count": 86,
            "name": "1/22/2004"
           },
           {
            "count": 85,
            "name": "01/06/2004"
           },
           {
            "count": 2030,
            "name": "29 others"
           }
          ],
          "nan_count": 0,
          "unique_count": 31
         }
        },
        {
         "dtype": "int64",
         "name": "FL_NUM",
         "stats": {
          "histogram": [
           {
            "bin_end": 1463.8,
            "bin_start": 746,
            "count": 153
           },
           {
            "bin_end": 2181.6,
            "bin_start": 1463.8,
            "count": 724
           },
           {
            "bin_end": 2899.3999999999996,
            "bin_start": 2181.6,
            "count": 421
           },
           {
            "bin_end": 3617.2,
            "bin_start": 2899.3999999999996,
            "count": 27
           },
           {
            "bin_end": 4335,
            "bin_start": 3617.2,
            "count": 0
           },
           {
            "bin_end": 5052.799999999999,
            "bin_start": 4335,
            "count": 295
           },
           {
            "bin_end": 5770.599999999999,
            "bin_start": 5052.799999999999,
            "count": 0
           },
           {
            "bin_end": 6488.4,
            "bin_start": 5770.599999999999,
            "count": 57
           },
           {
            "bin_end": 7206.2,
            "bin_start": 6488.4,
            "count": 0
           },
           {
            "bin_end": 7924,
            "bin_start": 7206.2,
            "count": 524
           }
          ],
          "max": "7924",
          "min": "746",
          "nan_count": 0,
          "unique_count": 103
         }
        },
        {
         "dtype": "object",
         "name": "ORIGIN",
         "stats": {
          "categories": [
           {
            "count": 1370,
            "name": "DCA"
           },
           {
            "count": 686,
            "name": "IAD"
           },
           {
            "count": 145,
            "name": "BWI"
           }
          ],
          "nan_count": 0,
          "unique_count": 3
         }
        },
        {
         "dtype": "int64",
         "name": "Weather",
         "stats": {
          "histogram": [
           {
            "bin_end": 0.1,
            "bin_start": 0,
            "count": 2169
           },
           {
            "bin_end": 0.2,
            "bin_start": 0.1,
            "count": 0
           },
           {
            "bin_end": 0.30000000000000004,
            "bin_start": 0.2,
            "count": 0
           },
           {
            "bin_end": 0.4,
            "bin_start": 0.30000000000000004,
            "count": 0
           },
           {
            "bin_end": 0.5,
            "bin_start": 0.4,
            "count": 0
           },
           {
            "bin_end": 0.6000000000000001,
            "bin_start": 0.5,
            "count": 0
           },
           {
            "bin_end": 0.7000000000000001,
            "bin_start": 0.6000000000000001,
            "count": 0
           },
           {
            "bin_end": 0.8,
            "bin_start": 0.7000000000000001,
            "count": 0
           },
           {
            "bin_end": 0.9,
            "bin_start": 0.8,
            "count": 0
           },
           {
            "bin_end": 1,
            "bin_start": 0.9,
            "count": 32
           }
          ],
          "max": "1",
          "min": "0",
          "nan_count": 0,
          "unique_count": 2
         }
        },
        {
         "dtype": "int64",
         "name": "DAY_WEEK",
         "stats": {
          "histogram": [
           {
            "bin_end": 1.6,
            "bin_start": 1,
            "count": 308
           },
           {
            "bin_end": 2.2,
            "bin_start": 1.6,
            "count": 307
           },
           {
            "bin_end": 2.8,
            "bin_start": 2.2,
            "count": 0
           },
           {
            "bin_end": 3.4,
            "bin_start": 2.8,
            "count": 320
           },
           {
            "bin_end": 4,
            "bin_start": 3.4,
            "count": 0
           },
           {
            "bin_end": 4.6,
            "bin_start": 4,
            "count": 372
           },
           {
            "bin_end": 5.2,
            "bin_start": 4.6,
            "count": 391
           },
           {
            "bin_end": 5.8,
            "bin_start": 5.2,
            "count": 0
           },
           {
            "bin_end": 6.3999999999999995,
            "bin_start": 5.8,
            "count": 250
           },
           {
            "bin_end": 7,
            "bin_start": 6.3999999999999995,
            "count": 253
           }
          ],
          "max": "7",
          "min": "1",
          "nan_count": 0,
          "unique_count": 7
         }
        },
        {
         "dtype": "int64",
         "name": "DAY_OF_MONTH",
         "stats": {
          "histogram": [
           {
            "bin_end": 4,
            "bin_start": 1,
            "count": 163
           },
           {
            "bin_end": 7,
            "bin_start": 4,
            "count": 226
           },
           {
            "bin_end": 10,
            "bin_start": 7,
            "count": 252
           },
           {
            "bin_end": 13,
            "bin_start": 10,
            "count": 202
           },
           {
            "bin_end": 16,
            "bin_start": 13,
            "count": 238
           },
           {
            "bin_end": 19,
            "bin_start": 16,
            "count": 184
           },
           {
            "bin_end": 22,
            "bin_start": 19,
            "count": 251
           },
           {
            "bin_end": 25,
            "bin_start": 22,
            "count": 217
           },
           {
            "bin_end": 28,
            "bin_start": 25,
            "count": 184
           },
           {
            "bin_end": 31,
            "bin_start": 28,
            "count": 284
           }
          ],
          "max": "31",
          "min": "1",
          "nan_count": 0,
          "unique_count": 31
         }
        },
        {
         "dtype": "object",
         "name": "TAIL_NUM",
         "stats": {
          "categories": [
           {
            "count": 65,
            "name": "N225DL"
           },
           {
            "count": 56,
            "name": "N242DL"
           },
           {
            "count": 2080,
            "name": "547 others"
           }
          ],
          "nan_count": 0,
          "unique_count": 549
         }
        },
        {
         "dtype": "object",
         "name": "Flight Status",
         "stats": {
          "categories": [
           {
            "count": 1773,
            "name": "ontime"
           },
           {
            "count": 428,
            "name": "delayed"
           }
          ],
          "nan_count": 0,
          "unique_count": 2
         }
        },
        {
         "dtype": "int64",
         "name": "_deepnote_index_column"
        }
       ],
       "row_count": 2201,
       "rows": [
        {
         "CARRIER": "DH",
         "CRS_DEP_TIME": 1710,
         "DAY_OF_MONTH": 31,
         "DAY_WEEK": 6,
         "DEP_TIME": 1659,
         "DEST": "EWR",
         "DISTANCE": 213,
         "FL_DATE": "1/31/2004",
         "FL_NUM": 7302,
         "Flight Status": "ontime",
         "ORIGIN": "IAD",
         "TAIL_NUM": "N624BR",
         "Weather": 0,
         "_deepnote_index_column": 2190
        },
        {
         "CARRIER": "DH",
         "CRS_DEP_TIME": 1245,
         "DAY_OF_MONTH": 31,
         "DAY_WEEK": 6,
         "DEP_TIME": 1247,
         "DEST": "EWR",
         "DISTANCE": 213,
         "FL_DATE": "1/31/2004",
         "FL_NUM": 7303,
         "Flight Status": "ontime",
         "ORIGIN": "IAD",
         "TAIL_NUM": "N624BR",
         "Weather": 0,
         "_deepnote_index_column": 2191
        },
        {
         "CARRIER": "DH",
         "CRS_DEP_TIME": 2120,
         "DAY_OF_MONTH": 31,
         "DAY_WEEK": 6,
         "DEP_TIME": 2111,
         "DEST": "EWR",
         "DISTANCE": 213,
         "FL_DATE": "1/31/2004",
         "FL_NUM": 7304,
         "Flight Status": "ontime",
         "ORIGIN": "IAD",
         "TAIL_NUM": "N702BR",
         "Weather": 0,
         "_deepnote_index_column": 2192
        },
        {
         "CARRIER": "RU",
         "CRS_DEP_TIME": 1500,
         "DAY_OF_MONTH": 31,
         "DAY_WEEK": 6,
         "DEP_TIME": 1458,
         "DEST": "EWR",
         "DISTANCE": 213,
         "FL_DATE": "1/31/2004",
         "FL_NUM": 2156,
         "Flight Status": "ontime",
         "ORIGIN": "IAD",
         "TAIL_NUM": "N11140",
         "Weather": 0,
         "_deepnote_index_column": 2193
        },
        {
         "CARRIER": "RU",
         "CRS_DEP_TIME": 930,
         "DAY_OF_MONTH": 31,
         "DAY_WEEK": 6,
         "DEP_TIME": 925,
         "DEST": "EWR",
         "DISTANCE": 199,
         "FL_DATE": "1/31/2004",
         "FL_NUM": 2582,
         "Flight Status": "ontime",
         "ORIGIN": "DCA",
         "TAIL_NUM": "N12567",
         "Weather": 0,
         "_deepnote_index_column": 2194
        },
        {
         "CARRIER": "RU",
         "CRS_DEP_TIME": 700,
         "DAY_OF_MONTH": 31,
         "DAY_WEEK": 6,
         "DEP_TIME": 650,
         "DEST": "EWR",
         "DISTANCE": 213,
         "FL_DATE": "1/31/2004",
         "FL_NUM": 2855,
         "Flight Status": "ontime",
         "ORIGIN": "IAD",
         "TAIL_NUM": "N14558",
         "Weather": 0,
         "_deepnote_index_column": 2195
        },
        {
         "CARRIER": "RU",
         "CRS_DEP_TIME": 645,
         "DAY_OF_MONTH": 31,
         "DAY_WEEK": 6,
         "DEP_TIME": 644,
         "DEST": "EWR",
         "DISTANCE": 199,
         "FL_DATE": "1/31/2004",
         "FL_NUM": 2761,
         "Flight Status": "ontime",
         "ORIGIN": "DCA",
         "TAIL_NUM": "N15555",
         "Weather": 0,
         "_deepnote_index_column": 2196
        },
        {
         "CARRIER": "RU",
         "CRS_DEP_TIME": 1700,
         "DAY_OF_MONTH": 31,
         "DAY_WEEK": 6,
         "DEP_TIME": 1653,
         "DEST": "EWR",
         "DISTANCE": 213,
         "FL_DATE": "1/31/2004",
         "FL_NUM": 2497,
         "Flight Status": "ontime",
         "ORIGIN": "IAD",
         "TAIL_NUM": "N16976",
         "Weather": 0,
         "_deepnote_index_column": 2197
        },
        {
         "CARRIER": "RU",
         "CRS_DEP_TIME": 1600,
         "DAY_OF_MONTH": 31,
         "DAY_WEEK": 6,
         "DEP_TIME": 1558,
         "DEST": "EWR",
         "DISTANCE": 199,
         "FL_DATE": "1/31/2004",
         "FL_NUM": 2361,
         "Flight Status": "ontime",
         "ORIGIN": "DCA",
         "TAIL_NUM": "N14902",
         "Weather": 0,
         "_deepnote_index_column": 2198
        },
        {
         "CARRIER": "RU",
         "CRS_DEP_TIME": 1359,
         "DAY_OF_MONTH": 31,
         "DAY_WEEK": 6,
         "DEP_TIME": 1403,
         "DEST": "EWR",
         "DISTANCE": 199,
         "FL_DATE": "1/31/2004",
         "FL_NUM": 2216,
         "Flight Status": "ontime",
         "ORIGIN": "DCA",
         "TAIL_NUM": "N16961",
         "Weather": 0,
         "_deepnote_index_column": 2199
        }
       ]
      },
      "text/html": [
       "<div>\n",
       "<style scoped>\n",
       "    .dataframe tbody tr th:only-of-type {\n",
       "        vertical-align: middle;\n",
       "    }\n",
       "\n",
       "    .dataframe tbody tr th {\n",
       "        vertical-align: top;\n",
       "    }\n",
       "\n",
       "    .dataframe thead th {\n",
       "        text-align: right;\n",
       "    }\n",
       "</style>\n",
       "<table border=\"1\" class=\"dataframe\">\n",
       "  <thead>\n",
       "    <tr style=\"text-align: right;\">\n",
       "      <th></th>\n",
       "      <th>CRS_DEP_TIME</th>\n",
       "      <th>CARRIER</th>\n",
       "      <th>DEP_TIME</th>\n",
       "      <th>DEST</th>\n",
       "      <th>DISTANCE</th>\n",
       "      <th>FL_DATE</th>\n",
       "      <th>FL_NUM</th>\n",
       "      <th>ORIGIN</th>\n",
       "      <th>Weather</th>\n",
       "      <th>DAY_WEEK</th>\n",
       "      <th>DAY_OF_MONTH</th>\n",
       "      <th>TAIL_NUM</th>\n",
       "      <th>Flight Status</th>\n",
       "    </tr>\n",
       "  </thead>\n",
       "  <tbody>\n",
       "    <tr>\n",
       "      <th>0</th>\n",
       "      <td>1455</td>\n",
       "      <td>OH</td>\n",
       "      <td>1455</td>\n",
       "      <td>JFK</td>\n",
       "      <td>184</td>\n",
       "      <td>01/01/2004</td>\n",
       "      <td>5935</td>\n",
       "      <td>BWI</td>\n",
       "      <td>0</td>\n",
       "      <td>4</td>\n",
       "      <td>1</td>\n",
       "      <td>N940CA</td>\n",
       "      <td>ontime</td>\n",
       "    </tr>\n",
       "    <tr>\n",
       "      <th>1</th>\n",
       "      <td>1640</td>\n",
       "      <td>DH</td>\n",
       "      <td>1640</td>\n",
       "      <td>JFK</td>\n",
       "      <td>213</td>\n",
       "      <td>01/01/2004</td>\n",
       "      <td>6155</td>\n",
       "      <td>DCA</td>\n",
       "      <td>0</td>\n",
       "      <td>4</td>\n",
       "      <td>1</td>\n",
       "      <td>N405FJ</td>\n",
       "      <td>ontime</td>\n",
       "    </tr>\n",
       "    <tr>\n",
       "      <th>2</th>\n",
       "      <td>1245</td>\n",
       "      <td>DH</td>\n",
       "      <td>1245</td>\n",
       "      <td>LGA</td>\n",
       "      <td>229</td>\n",
       "      <td>01/01/2004</td>\n",
       "      <td>7208</td>\n",
       "      <td>IAD</td>\n",
       "      <td>0</td>\n",
       "      <td>4</td>\n",
       "      <td>1</td>\n",
       "      <td>N695BR</td>\n",
       "      <td>ontime</td>\n",
       "    </tr>\n",
       "    <tr>\n",
       "      <th>3</th>\n",
       "      <td>1715</td>\n",
       "      <td>DH</td>\n",
       "      <td>1709</td>\n",
       "      <td>LGA</td>\n",
       "      <td>229</td>\n",
       "      <td>01/01/2004</td>\n",
       "      <td>7215</td>\n",
       "      <td>IAD</td>\n",
       "      <td>0</td>\n",
       "      <td>4</td>\n",
       "      <td>1</td>\n",
       "      <td>N662BR</td>\n",
       "      <td>ontime</td>\n",
       "    </tr>\n",
       "    <tr>\n",
       "      <th>4</th>\n",
       "      <td>1039</td>\n",
       "      <td>DH</td>\n",
       "      <td>1035</td>\n",
       "      <td>LGA</td>\n",
       "      <td>229</td>\n",
       "      <td>01/01/2004</td>\n",
       "      <td>7792</td>\n",
       "      <td>IAD</td>\n",
       "      <td>0</td>\n",
       "      <td>4</td>\n",
       "      <td>1</td>\n",
       "      <td>N698BR</td>\n",
       "      <td>ontime</td>\n",
       "    </tr>\n",
       "    <tr>\n",
       "      <th>...</th>\n",
       "      <td>...</td>\n",
       "      <td>...</td>\n",
       "      <td>...</td>\n",
       "      <td>...</td>\n",
       "      <td>...</td>\n",
       "      <td>...</td>\n",
       "      <td>...</td>\n",
       "      <td>...</td>\n",
       "      <td>...</td>\n",
       "      <td>...</td>\n",
       "      <td>...</td>\n",
       "      <td>...</td>\n",
       "      <td>...</td>\n",
       "    </tr>\n",
       "    <tr>\n",
       "      <th>2196</th>\n",
       "      <td>645</td>\n",
       "      <td>RU</td>\n",
       "      <td>644</td>\n",
       "      <td>EWR</td>\n",
       "      <td>199</td>\n",
       "      <td>1/31/2004</td>\n",
       "      <td>2761</td>\n",
       "      <td>DCA</td>\n",
       "      <td>0</td>\n",
       "      <td>6</td>\n",
       "      <td>31</td>\n",
       "      <td>N15555</td>\n",
       "      <td>ontime</td>\n",
       "    </tr>\n",
       "    <tr>\n",
       "      <th>2197</th>\n",
       "      <td>1700</td>\n",
       "      <td>RU</td>\n",
       "      <td>1653</td>\n",
       "      <td>EWR</td>\n",
       "      <td>213</td>\n",
       "      <td>1/31/2004</td>\n",
       "      <td>2497</td>\n",
       "      <td>IAD</td>\n",
       "      <td>0</td>\n",
       "      <td>6</td>\n",
       "      <td>31</td>\n",
       "      <td>N16976</td>\n",
       "      <td>ontime</td>\n",
       "    </tr>\n",
       "    <tr>\n",
       "      <th>2198</th>\n",
       "      <td>1600</td>\n",
       "      <td>RU</td>\n",
       "      <td>1558</td>\n",
       "      <td>EWR</td>\n",
       "      <td>199</td>\n",
       "      <td>1/31/2004</td>\n",
       "      <td>2361</td>\n",
       "      <td>DCA</td>\n",
       "      <td>0</td>\n",
       "      <td>6</td>\n",
       "      <td>31</td>\n",
       "      <td>N14902</td>\n",
       "      <td>ontime</td>\n",
       "    </tr>\n",
       "    <tr>\n",
       "      <th>2199</th>\n",
       "      <td>1359</td>\n",
       "      <td>RU</td>\n",
       "      <td>1403</td>\n",
       "      <td>EWR</td>\n",
       "      <td>199</td>\n",
       "      <td>1/31/2004</td>\n",
       "      <td>2216</td>\n",
       "      <td>DCA</td>\n",
       "      <td>0</td>\n",
       "      <td>6</td>\n",
       "      <td>31</td>\n",
       "      <td>N16961</td>\n",
       "      <td>ontime</td>\n",
       "    </tr>\n",
       "    <tr>\n",
       "      <th>2200</th>\n",
       "      <td>1730</td>\n",
       "      <td>RU</td>\n",
       "      <td>1736</td>\n",
       "      <td>EWR</td>\n",
       "      <td>199</td>\n",
       "      <td>1/31/2004</td>\n",
       "      <td>2097</td>\n",
       "      <td>DCA</td>\n",
       "      <td>0</td>\n",
       "      <td>6</td>\n",
       "      <td>31</td>\n",
       "      <td>N13994</td>\n",
       "      <td>ontime</td>\n",
       "    </tr>\n",
       "  </tbody>\n",
       "</table>\n",
       "<p>2201 rows × 13 columns</p>\n",
       "</div>"
      ],
      "text/plain": [
       "      CRS_DEP_TIME CARRIER  DEP_TIME DEST  DISTANCE     FL_DATE  FL_NUM  \\\n",
       "0             1455      OH      1455  JFK       184  01/01/2004    5935   \n",
       "1             1640      DH      1640  JFK       213  01/01/2004    6155   \n",
       "2             1245      DH      1245  LGA       229  01/01/2004    7208   \n",
       "3             1715      DH      1709  LGA       229  01/01/2004    7215   \n",
       "4             1039      DH      1035  LGA       229  01/01/2004    7792   \n",
       "...            ...     ...       ...  ...       ...         ...     ...   \n",
       "2196           645      RU       644  EWR       199   1/31/2004    2761   \n",
       "2197          1700      RU      1653  EWR       213   1/31/2004    2497   \n",
       "2198          1600      RU      1558  EWR       199   1/31/2004    2361   \n",
       "2199          1359      RU      1403  EWR       199   1/31/2004    2216   \n",
       "2200          1730      RU      1736  EWR       199   1/31/2004    2097   \n",
       "\n",
       "     ORIGIN  Weather  DAY_WEEK  DAY_OF_MONTH TAIL_NUM Flight Status  \n",
       "0       BWI        0         4             1   N940CA        ontime  \n",
       "1       DCA        0         4             1   N405FJ        ontime  \n",
       "2       IAD        0         4             1   N695BR        ontime  \n",
       "3       IAD        0         4             1   N662BR        ontime  \n",
       "4       IAD        0         4             1   N698BR        ontime  \n",
       "...     ...      ...       ...           ...      ...           ...  \n",
       "2196    DCA        0         6            31   N15555        ontime  \n",
       "2197    IAD        0         6            31   N16976        ontime  \n",
       "2198    DCA        0         6            31   N14902        ontime  \n",
       "2199    DCA        0         6            31   N16961        ontime  \n",
       "2200    DCA        0         6            31   N13994        ontime  \n",
       "\n",
       "[2201 rows x 13 columns]"
      ]
     },
     "execution_count": 3,
     "metadata": {},
     "output_type": "execute_result"
    }
   ],
   "source": [
    "# Review the characteristics of the dataset\n",
    "delays_df"
   ]
  },
  {
   "cell_type": "code",
   "execution_count": null,
   "metadata": {
    "cell_id": "7c3b122ec17442839f22365ef21ecdf9",
    "deepnote_cell_type": "code",
    "deepnote_to_be_reexecuted": false,
    "execution_millis": 387,
    "execution_start": 1711504432011,
    "source_hash": null
   },
   "outputs": [
    {
     "data": {
      "application/vnd.deepnote.dataframe.v3+json": {
       "column_count": 7,
       "columns": [
        {
         "dtype": "float64",
         "name": "CRS_DEP_TIME",
         "stats": {
          "histogram": [
           {
            "bin_end": 609.5274344137317,
            "bin_start": 432.69714934859087,
            "count": 2
           },
           {
            "bin_end": 786.3577194788727,
            "bin_start": 609.5274344137317,
            "count": 0
           },
           {
            "bin_end": 963.1880045440136,
            "bin_start": 786.3577194788727,
            "count": 0
           },
           {
            "bin_end": 1140.0182896091546,
            "bin_start": 963.1880045440136,
            "count": 1
           },
           {
            "bin_end": 1316.8485746742954,
            "bin_start": 1140.0182896091546,
            "count": 0
           },
           {
            "bin_end": 1493.6788597394361,
            "bin_start": 1316.8485746742954,
            "count": 2
           },
           {
            "bin_end": 1670.5091448045773,
            "bin_start": 1493.6788597394361,
            "count": 0
           },
           {
            "bin_end": 1847.339429869718,
            "bin_start": 1670.5091448045773,
            "count": 1
           },
           {
            "bin_end": 2024.1697149348593,
            "bin_start": 1847.339429869718,
            "count": 0
           },
           {
            "bin_end": 2201,
            "bin_start": 2024.1697149348593,
            "count": 2
           }
          ],
          "max": "2201.0",
          "min": "432.69714934859087",
          "nan_count": 0,
          "unique_count": 8
         }
        },
        {
         "dtype": "float64",
         "name": "DEP_TIME",
         "stats": {
          "histogram": [
           {
            "bin_end": 242,
            "bin_start": 10,
            "count": 1
           },
           {
            "bin_end": 474,
            "bin_start": 242,
            "count": 1
           },
           {
            "bin_end": 706,
            "bin_start": 474,
            "count": 0
           },
           {
            "bin_end": 938,
            "bin_start": 706,
            "count": 0
           },
           {
            "bin_end": 1170,
            "bin_start": 938,
            "count": 1
           },
           {
            "bin_end": 1402,
            "bin_start": 1170,
            "count": 1
           },
           {
            "bin_end": 1634,
            "bin_start": 1402,
            "count": 1
           },
           {
            "bin_end": 1866,
            "bin_start": 1634,
            "count": 1
           },
           {
            "bin_end": 2098,
            "bin_start": 1866,
            "count": 0
           },
           {
            "bin_end": 2330,
            "bin_start": 2098,
            "count": 2
           }
          ],
          "max": "2330.0",
          "min": "10.0",
          "nan_count": 0,
          "unique_count": 8
         }
        },
        {
         "dtype": "float64",
         "name": "DISTANCE",
         "stats": {
          "histogram": [
           {
            "bin_end": 232.08513314075552,
            "bin_start": 13.316814600839438,
            "count": 7
           },
           {
            "bin_end": 450.8534516806716,
            "bin_start": 232.08513314075552,
            "count": 0
           },
           {
            "bin_end": 669.6217702205876,
            "bin_start": 450.8534516806716,
            "count": 0
           },
           {
            "bin_end": 888.3900887605037,
            "bin_start": 669.6217702205876,
            "count": 0
           },
           {
            "bin_end": 1107.1584073004199,
            "bin_start": 888.3900887605037,
            "count": 0
           },
           {
            "bin_end": 1325.9267258403358,
            "bin_start": 1107.1584073004199,
            "count": 0
           },
           {
            "bin_end": 1544.695044380252,
            "bin_start": 1325.9267258403358,
            "count": 0
           },
           {
            "bin_end": 1763.463362920168,
            "bin_start": 1544.695044380252,
            "count": 0
           },
           {
            "bin_end": 1982.231681460084,
            "bin_start": 1763.463362920168,
            "count": 0
           },
           {
            "bin_end": 2201,
            "bin_start": 1982.231681460084,
            "count": 1
           }
          ],
          "max": "2201.0",
          "min": "13.316814600839438",
          "nan_count": 0,
          "unique_count": 7
         }
        },
        {
         "dtype": "float64",
         "name": "FL_NUM",
         "stats": {
          "histogram": [
           {
            "bin_end": 1463.8,
            "bin_start": 746,
            "count": 1
           },
           {
            "bin_end": 2181.6,
            "bin_start": 1463.8,
            "count": 1
           },
           {
            "bin_end": 2899.3999999999996,
            "bin_start": 2181.6,
            "count": 3
           },
           {
            "bin_end": 3617.2,
            "bin_start": 2899.3999999999996,
            "count": 0
           },
           {
            "bin_end": 4335,
            "bin_start": 3617.2,
            "count": 1
           },
           {
            "bin_end": 5052.799999999999,
            "bin_start": 4335,
            "count": 0
           },
           {
            "bin_end": 5770.599999999999,
            "bin_start": 5052.799999999999,
            "count": 0
           },
           {
            "bin_end": 6488.4,
            "bin_start": 5770.599999999999,
            "count": 1
           },
           {
            "bin_end": 7206.2,
            "bin_start": 6488.4,
            "count": 0
           },
           {
            "bin_end": 7924,
            "bin_start": 7206.2,
            "count": 1
           }
          ],
          "max": "7924.0",
          "min": "746.0",
          "nan_count": 0,
          "unique_count": 8
         }
        },
        {
         "dtype": "float64",
         "name": "Weather",
         "stats": {
          "histogram": [
           {
            "bin_end": 220.1,
            "bin_start": 0,
            "count": 7
           },
           {
            "bin_end": 440.2,
            "bin_start": 220.1,
            "count": 0
           },
           {
            "bin_end": 660.3,
            "bin_start": 440.2,
            "count": 0
           },
           {
            "bin_end": 880.4,
            "bin_start": 660.3,
            "count": 0
           },
           {
            "bin_end": 1100.5,
            "bin_start": 880.4,
            "count": 0
           },
           {
            "bin_end": 1320.6,
            "bin_start": 1100.5,
            "count": 0
           },
           {
            "bin_end": 1540.7,
            "bin_start": 1320.6,
            "count": 0
           },
           {
            "bin_end": 1760.8,
            "bin_start": 1540.7,
            "count": 0
           },
           {
            "bin_end": 1980.8999999999999,
            "bin_start": 1760.8,
            "count": 0
           },
           {
            "bin_end": 2201,
            "bin_start": 1980.8999999999999,
            "count": 1
           }
          ],
          "max": "2201.0",
          "min": "0.0",
          "nan_count": 0,
          "unique_count": 5
         }
        },
        {
         "dtype": "float64",
         "name": "DAY_WEEK",
         "stats": {
          "histogram": [
           {
            "bin_end": 221,
            "bin_start": 1,
            "count": 7
           },
           {
            "bin_end": 441,
            "bin_start": 221,
            "count": 0
           },
           {
            "bin_end": 661,
            "bin_start": 441,
            "count": 0
           },
           {
            "bin_end": 881,
            "bin_start": 661,
            "count": 0
           },
           {
            "bin_end": 1101,
            "bin_start": 881,
            "count": 0
           },
           {
            "bin_end": 1321,
            "bin_start": 1101,
            "count": 0
           },
           {
            "bin_end": 1541,
            "bin_start": 1321,
            "count": 0
           },
           {
            "bin_end": 1761,
            "bin_start": 1541,
            "count": 0
           },
           {
            "bin_end": 1981,
            "bin_start": 1761,
            "count": 0
           },
           {
            "bin_end": 2201,
            "bin_start": 1981,
            "count": 1
           }
          ],
          "max": "2201.0",
          "min": "1.0",
          "nan_count": 0,
          "unique_count": 8
         }
        },
        {
         "dtype": "float64",
         "name": "DAY_OF_MONTH",
         "stats": {
          "histogram": [
           {
            "bin_end": 221,
            "bin_start": 1,
            "count": 7
           },
           {
            "bin_end": 441,
            "bin_start": 221,
            "count": 0
           },
           {
            "bin_end": 661,
            "bin_start": 441,
            "count": 0
           },
           {
            "bin_end": 881,
            "bin_start": 661,
            "count": 0
           },
           {
            "bin_end": 1101,
            "bin_start": 881,
            "count": 0
           },
           {
            "bin_end": 1321,
            "bin_start": 1101,
            "count": 0
           },
           {
            "bin_end": 1541,
            "bin_start": 1321,
            "count": 0
           },
           {
            "bin_end": 1761,
            "bin_start": 1541,
            "count": 0
           },
           {
            "bin_end": 1981,
            "bin_start": 1761,
            "count": 0
           },
           {
            "bin_end": 2201,
            "bin_start": 1981,
            "count": 1
           }
          ],
          "max": "2201.0",
          "min": "1.0",
          "nan_count": 0,
          "unique_count": 8
         }
        },
        {
         "dtype": "object",
         "name": "_deepnote_index_column"
        }
       ],
       "row_count": 8,
       "rows": [
        {
         "CRS_DEP_TIME": 2201,
         "DAY_OF_MONTH": 2201,
         "DAY_WEEK": 2201,
         "DEP_TIME": 2201,
         "DISTANCE": 2201,
         "FL_NUM": 2201,
         "Weather": 2201,
         "_deepnote_index_column": "count"
        },
        {
         "CRS_DEP_TIME": 1371.9386642435256,
         "DAY_OF_MONTH": 16.02498864152658,
         "DAY_WEEK": 3.9054975011358475,
         "DEP_TIME": 1369.2989550204452,
         "DISTANCE": 211.87142208087232,
         "FL_NUM": 3815.086324398001,
         "Weather": 0.014538845979100408,
         "_deepnote_index_column": "mean"
        },
        {
         "CRS_DEP_TIME": 432.69714934859087,
         "DAY_OF_MONTH": 8.677390307960632,
         "DAY_WEEK": 1.9031485252597333,
         "DEP_TIME": 442.46275410150554,
         "DISTANCE": 13.316814600839438,
         "FL_NUM": 2409.750224476158,
         "Weather": 0.11972460240953894,
         "_deepnote_index_column": "std"
        },
        {
         "CRS_DEP_TIME": 600,
         "DAY_OF_MONTH": 1,
         "DAY_WEEK": 1,
         "DEP_TIME": 10,
         "DISTANCE": 169,
         "FL_NUM": 746,
         "Weather": 0,
         "_deepnote_index_column": "min"
        },
        {
         "CRS_DEP_TIME": 1000,
         "DAY_OF_MONTH": 8,
         "DAY_WEEK": 2,
         "DEP_TIME": 1004,
         "DISTANCE": 213,
         "FL_NUM": 2156,
         "Weather": 0,
         "_deepnote_index_column": "25%"
        },
        {
         "CRS_DEP_TIME": 1455,
         "DAY_OF_MONTH": 16,
         "DAY_WEEK": 4,
         "DEP_TIME": 1450,
         "DISTANCE": 214,
         "FL_NUM": 2385,
         "Weather": 0,
         "_deepnote_index_column": "50%"
        },
        {
         "CRS_DEP_TIME": 1710,
         "DAY_OF_MONTH": 23,
         "DAY_WEEK": 5,
         "DEP_TIME": 1709,
         "DISTANCE": 214,
         "FL_NUM": 6155,
         "Weather": 0,
         "_deepnote_index_column": "75%"
        },
        {
         "CRS_DEP_TIME": 2130,
         "DAY_OF_MONTH": 31,
         "DAY_WEEK": 7,
         "DEP_TIME": 2330,
         "DISTANCE": 229,
         "FL_NUM": 7924,
         "Weather": 1,
         "_deepnote_index_column": "max"
        }
       ]
      },
      "text/html": [
       "<div>\n",
       "<style scoped>\n",
       "    .dataframe tbody tr th:only-of-type {\n",
       "        vertical-align: middle;\n",
       "    }\n",
       "\n",
       "    .dataframe tbody tr th {\n",
       "        vertical-align: top;\n",
       "    }\n",
       "\n",
       "    .dataframe thead th {\n",
       "        text-align: right;\n",
       "    }\n",
       "</style>\n",
       "<table border=\"1\" class=\"dataframe\">\n",
       "  <thead>\n",
       "    <tr style=\"text-align: right;\">\n",
       "      <th></th>\n",
       "      <th>CRS_DEP_TIME</th>\n",
       "      <th>DEP_TIME</th>\n",
       "      <th>DISTANCE</th>\n",
       "      <th>FL_NUM</th>\n",
       "      <th>Weather</th>\n",
       "      <th>DAY_WEEK</th>\n",
       "      <th>DAY_OF_MONTH</th>\n",
       "    </tr>\n",
       "  </thead>\n",
       "  <tbody>\n",
       "    <tr>\n",
       "      <th>count</th>\n",
       "      <td>2201.000000</td>\n",
       "      <td>2201.000000</td>\n",
       "      <td>2201.000000</td>\n",
       "      <td>2201.000000</td>\n",
       "      <td>2201.000000</td>\n",
       "      <td>2201.000000</td>\n",
       "      <td>2201.000000</td>\n",
       "    </tr>\n",
       "    <tr>\n",
       "      <th>mean</th>\n",
       "      <td>1371.938664</td>\n",
       "      <td>1369.298955</td>\n",
       "      <td>211.871422</td>\n",
       "      <td>3815.086324</td>\n",
       "      <td>0.014539</td>\n",
       "      <td>3.905498</td>\n",
       "      <td>16.024989</td>\n",
       "    </tr>\n",
       "    <tr>\n",
       "      <th>std</th>\n",
       "      <td>432.697149</td>\n",
       "      <td>442.462754</td>\n",
       "      <td>13.316815</td>\n",
       "      <td>2409.750224</td>\n",
       "      <td>0.119725</td>\n",
       "      <td>1.903149</td>\n",
       "      <td>8.677390</td>\n",
       "    </tr>\n",
       "    <tr>\n",
       "      <th>min</th>\n",
       "      <td>600.000000</td>\n",
       "      <td>10.000000</td>\n",
       "      <td>169.000000</td>\n",
       "      <td>746.000000</td>\n",
       "      <td>0.000000</td>\n",
       "      <td>1.000000</td>\n",
       "      <td>1.000000</td>\n",
       "    </tr>\n",
       "    <tr>\n",
       "      <th>25%</th>\n",
       "      <td>1000.000000</td>\n",
       "      <td>1004.000000</td>\n",
       "      <td>213.000000</td>\n",
       "      <td>2156.000000</td>\n",
       "      <td>0.000000</td>\n",
       "      <td>2.000000</td>\n",
       "      <td>8.000000</td>\n",
       "    </tr>\n",
       "    <tr>\n",
       "      <th>50%</th>\n",
       "      <td>1455.000000</td>\n",
       "      <td>1450.000000</td>\n",
       "      <td>214.000000</td>\n",
       "      <td>2385.000000</td>\n",
       "      <td>0.000000</td>\n",
       "      <td>4.000000</td>\n",
       "      <td>16.000000</td>\n",
       "    </tr>\n",
       "    <tr>\n",
       "      <th>75%</th>\n",
       "      <td>1710.000000</td>\n",
       "      <td>1709.000000</td>\n",
       "      <td>214.000000</td>\n",
       "      <td>6155.000000</td>\n",
       "      <td>0.000000</td>\n",
       "      <td>5.000000</td>\n",
       "      <td>23.000000</td>\n",
       "    </tr>\n",
       "    <tr>\n",
       "      <th>max</th>\n",
       "      <td>2130.000000</td>\n",
       "      <td>2330.000000</td>\n",
       "      <td>229.000000</td>\n",
       "      <td>7924.000000</td>\n",
       "      <td>1.000000</td>\n",
       "      <td>7.000000</td>\n",
       "      <td>31.000000</td>\n",
       "    </tr>\n",
       "  </tbody>\n",
       "</table>\n",
       "</div>"
      ],
      "text/plain": [
       "       CRS_DEP_TIME     DEP_TIME     DISTANCE       FL_NUM      Weather  \\\n",
       "count   2201.000000  2201.000000  2201.000000  2201.000000  2201.000000   \n",
       "mean    1371.938664  1369.298955   211.871422  3815.086324     0.014539   \n",
       "std      432.697149   442.462754    13.316815  2409.750224     0.119725   \n",
       "min      600.000000    10.000000   169.000000   746.000000     0.000000   \n",
       "25%     1000.000000  1004.000000   213.000000  2156.000000     0.000000   \n",
       "50%     1455.000000  1450.000000   214.000000  2385.000000     0.000000   \n",
       "75%     1710.000000  1709.000000   214.000000  6155.000000     0.000000   \n",
       "max     2130.000000  2330.000000   229.000000  7924.000000     1.000000   \n",
       "\n",
       "          DAY_WEEK  DAY_OF_MONTH  \n",
       "count  2201.000000   2201.000000  \n",
       "mean      3.905498     16.024989  \n",
       "std       1.903149      8.677390  \n",
       "min       1.000000      1.000000  \n",
       "25%       2.000000      8.000000  \n",
       "50%       4.000000     16.000000  \n",
       "75%       5.000000     23.000000  \n",
       "max       7.000000     31.000000  "
      ]
     },
     "execution_count": 4,
     "metadata": {},
     "output_type": "execute_result"
    }
   ],
   "source": [
    "delays_df.describe()"
   ]
  },
  {
   "cell_type": "code",
   "execution_count": null,
   "metadata": {
    "cell_id": "f25f4b61b9bd4f3dafd4690e6b740517",
    "deepnote_cell_type": "code",
    "deepnote_to_be_reexecuted": false,
    "execution_millis": 358,
    "execution_start": 1711504432041,
    "source_hash": null
   },
   "outputs": [
    {
     "data": {
      "application/vnd.deepnote.dataframe.v3+json": {
       "column_count": 13,
       "columns": [
        {
         "dtype": "int64",
         "name": "CRS_DEP_TIME",
         "stats": {
          "histogram": [
           {
            "bin_end": 753,
            "bin_start": 600,
            "count": 259
           },
           {
            "bin_end": 906,
            "bin_start": 753,
            "count": 241
           },
           {
            "bin_end": 1059,
            "bin_start": 906,
            "count": 131
           },
           {
            "bin_end": 1212,
            "bin_start": 1059,
            "count": 90
           },
           {
            "bin_end": 1365,
            "bin_start": 1212,
            "count": 277
           },
           {
            "bin_end": 1518,
            "bin_start": 1365,
            "count": 318
           },
           {
            "bin_end": 1671,
            "bin_start": 1518,
            "count": 250
           },
           {
            "bin_end": 1824,
            "bin_start": 1671,
            "count": 268
           },
           {
            "bin_end": 1977,
            "bin_start": 1824,
            "count": 177
           },
           {
            "bin_end": 2130,
            "bin_start": 1977,
            "count": 190
           }
          ],
          "max": "2130",
          "min": "600",
          "nan_count": 0,
          "unique_count": 59
         }
        },
        {
         "dtype": "object",
         "name": "CARRIER",
         "stats": {
          "categories": [
           {
            "count": 551,
            "name": "DH"
           },
           {
            "count": 408,
            "name": "RU"
           },
           {
            "count": 1242,
            "name": "6 others"
           }
          ],
          "nan_count": 0,
          "unique_count": 8
         }
        },
        {
         "dtype": "int64",
         "name": "DEP_TIME",
         "stats": {
          "histogram": [
           {
            "bin_end": 242,
            "bin_start": 10,
            "count": 2
           },
           {
            "bin_end": 474,
            "bin_start": 242,
            "count": 0
           },
           {
            "bin_end": 706,
            "bin_start": 474,
            "count": 203
           },
           {
            "bin_end": 938,
            "bin_start": 706,
            "count": 316
           },
           {
            "bin_end": 1170,
            "bin_start": 938,
            "count": 197
           },
           {
            "bin_end": 1402,
            "bin_start": 1170,
            "count": 311
           },
           {
            "bin_end": 1634,
            "bin_start": 1402,
            "count": 461
           },
           {
            "bin_end": 1866,
            "bin_start": 1634,
            "count": 441
           },
           {
            "bin_end": 2098,
            "bin_start": 1866,
            "count": 167
           },
           {
            "bin_end": 2330,
            "bin_start": 2098,
            "count": 103
           }
          ],
          "max": "2330",
          "min": "10",
          "nan_count": 0,
          "unique_count": 633
         }
        },
        {
         "dtype": "object",
         "name": "DEST",
         "stats": {
          "categories": [
           {
            "count": 1150,
            "name": "LGA"
           },
           {
            "count": 665,
            "name": "EWR"
           },
           {
            "count": 386,
            "name": "JFK"
           }
          ],
          "nan_count": 0,
          "unique_count": 3
         }
        },
        {
         "dtype": "int64",
         "name": "DISTANCE",
         "stats": {
          "histogram": [
           {
            "bin_end": 175,
            "bin_start": 169,
            "count": 115
           },
           {
            "bin_end": 181,
            "bin_start": 175,
            "count": 0
           },
           {
            "bin_end": 187,
            "bin_start": 181,
            "count": 30
           },
           {
            "bin_end": 193,
            "bin_start": 187,
            "count": 0
           },
           {
            "bin_end": 199,
            "bin_start": 193,
            "count": 0
           },
           {
            "bin_end": 205,
            "bin_start": 199,
            "count": 256
           },
           {
            "bin_end": 211,
            "bin_start": 205,
            "count": 0
           },
           {
            "bin_end": 217,
            "bin_start": 211,
            "count": 1408
           },
           {
            "bin_end": 223,
            "bin_start": 217,
            "count": 0
           },
           {
            "bin_end": 229,
            "bin_start": 223,
            "count": 392
           }
          ],
          "max": "229",
          "min": "169",
          "nan_count": 0,
          "unique_count": 7
         }
        },
        {
         "dtype": "object",
         "name": "FL_DATE",
         "stats": {
          "categories": [
           {
            "count": 86,
            "name": "1/22/2004"
           },
           {
            "count": 85,
            "name": "01/06/2004"
           },
           {
            "count": 2030,
            "name": "29 others"
           }
          ],
          "nan_count": 0,
          "unique_count": 31
         }
        },
        {
         "dtype": "int64",
         "name": "FL_NUM",
         "stats": {
          "histogram": [
           {
            "bin_end": 1463.8,
            "bin_start": 746,
            "count": 153
           },
           {
            "bin_end": 2181.6,
            "bin_start": 1463.8,
            "count": 724
           },
           {
            "bin_end": 2899.3999999999996,
            "bin_start": 2181.6,
            "count": 421
           },
           {
            "bin_end": 3617.2,
            "bin_start": 2899.3999999999996,
            "count": 27
           },
           {
            "bin_end": 4335,
            "bin_start": 3617.2,
            "count": 0
           },
           {
            "bin_end": 5052.799999999999,
            "bin_start": 4335,
            "count": 295
           },
           {
            "bin_end": 5770.599999999999,
            "bin_start": 5052.799999999999,
            "count": 0
           },
           {
            "bin_end": 6488.4,
            "bin_start": 5770.599999999999,
            "count": 57
           },
           {
            "bin_end": 7206.2,
            "bin_start": 6488.4,
            "count": 0
           },
           {
            "bin_end": 7924,
            "bin_start": 7206.2,
            "count": 524
           }
          ],
          "max": "7924",
          "min": "746",
          "nan_count": 0,
          "unique_count": 103
         }
        },
        {
         "dtype": "object",
         "name": "ORIGIN",
         "stats": {
          "categories": [
           {
            "count": 1370,
            "name": "DCA"
           },
           {
            "count": 686,
            "name": "IAD"
           },
           {
            "count": 145,
            "name": "BWI"
           }
          ],
          "nan_count": 0,
          "unique_count": 3
         }
        },
        {
         "dtype": "int64",
         "name": "Weather",
         "stats": {
          "histogram": [
           {
            "bin_end": 0.1,
            "bin_start": 0,
            "count": 2169
           },
           {
            "bin_end": 0.2,
            "bin_start": 0.1,
            "count": 0
           },
           {
            "bin_end": 0.30000000000000004,
            "bin_start": 0.2,
            "count": 0
           },
           {
            "bin_end": 0.4,
            "bin_start": 0.30000000000000004,
            "count": 0
           },
           {
            "bin_end": 0.5,
            "bin_start": 0.4,
            "count": 0
           },
           {
            "bin_end": 0.6000000000000001,
            "bin_start": 0.5,
            "count": 0
           },
           {
            "bin_end": 0.7000000000000001,
            "bin_start": 0.6000000000000001,
            "count": 0
           },
           {
            "bin_end": 0.8,
            "bin_start": 0.7000000000000001,
            "count": 0
           },
           {
            "bin_end": 0.9,
            "bin_start": 0.8,
            "count": 0
           },
           {
            "bin_end": 1,
            "bin_start": 0.9,
            "count": 32
           }
          ],
          "max": "1",
          "min": "0",
          "nan_count": 0,
          "unique_count": 2
         }
        },
        {
         "dtype": "int64",
         "name": "DAY_WEEK",
         "stats": {
          "histogram": [
           {
            "bin_end": 1.6,
            "bin_start": 1,
            "count": 308
           },
           {
            "bin_end": 2.2,
            "bin_start": 1.6,
            "count": 307
           },
           {
            "bin_end": 2.8,
            "bin_start": 2.2,
            "count": 0
           },
           {
            "bin_end": 3.4,
            "bin_start": 2.8,
            "count": 320
           },
           {
            "bin_end": 4,
            "bin_start": 3.4,
            "count": 0
           },
           {
            "bin_end": 4.6,
            "bin_start": 4,
            "count": 372
           },
           {
            "bin_end": 5.2,
            "bin_start": 4.6,
            "count": 391
           },
           {
            "bin_end": 5.8,
            "bin_start": 5.2,
            "count": 0
           },
           {
            "bin_end": 6.3999999999999995,
            "bin_start": 5.8,
            "count": 250
           },
           {
            "bin_end": 7,
            "bin_start": 6.3999999999999995,
            "count": 253
           }
          ],
          "max": "7",
          "min": "1",
          "nan_count": 0,
          "unique_count": 7
         }
        },
        {
         "dtype": "int64",
         "name": "DAY_OF_MONTH",
         "stats": {
          "histogram": [
           {
            "bin_end": 4,
            "bin_start": 1,
            "count": 163
           },
           {
            "bin_end": 7,
            "bin_start": 4,
            "count": 226
           },
           {
            "bin_end": 10,
            "bin_start": 7,
            "count": 252
           },
           {
            "bin_end": 13,
            "bin_start": 10,
            "count": 202
           },
           {
            "bin_end": 16,
            "bin_start": 13,
            "count": 238
           },
           {
            "bin_end": 19,
            "bin_start": 16,
            "count": 184
           },
           {
            "bin_end": 22,
            "bin_start": 19,
            "count": 251
           },
           {
            "bin_end": 25,
            "bin_start": 22,
            "count": 217
           },
           {
            "bin_end": 28,
            "bin_start": 25,
            "count": 184
           },
           {
            "bin_end": 31,
            "bin_start": 28,
            "count": 284
           }
          ],
          "max": "31",
          "min": "1",
          "nan_count": 0,
          "unique_count": 31
         }
        },
        {
         "dtype": "object",
         "name": "TAIL_NUM",
         "stats": {
          "categories": [
           {
            "count": 65,
            "name": "N225DL"
           },
           {
            "count": 56,
            "name": "N242DL"
           },
           {
            "count": 2080,
            "name": "547 others"
           }
          ],
          "nan_count": 0,
          "unique_count": 549
         }
        },
        {
         "dtype": "object",
         "name": "FLIGHT_STATUS",
         "stats": {
          "categories": [
           {
            "count": 1773,
            "name": "ontime"
           },
           {
            "count": 428,
            "name": "delayed"
           }
          ],
          "nan_count": 0,
          "unique_count": 2
         }
        },
        {
         "dtype": "int64",
         "name": "_deepnote_index_column"
        }
       ],
       "row_count": 2201,
       "rows": [
        {
         "CARRIER": "OH",
         "CRS_DEP_TIME": 1455,
         "DAY_OF_MONTH": 1,
         "DAY_WEEK": 4,
         "DEP_TIME": 1455,
         "DEST": "JFK",
         "DISTANCE": 184,
         "FLIGHT_STATUS": "ontime",
         "FL_DATE": "01/01/2004",
         "FL_NUM": 5935,
         "ORIGIN": "BWI",
         "TAIL_NUM": "N940CA",
         "Weather": 0,
         "_deepnote_index_column": 0
        },
        {
         "CARRIER": "DH",
         "CRS_DEP_TIME": 1640,
         "DAY_OF_MONTH": 1,
         "DAY_WEEK": 4,
         "DEP_TIME": 1640,
         "DEST": "JFK",
         "DISTANCE": 213,
         "FLIGHT_STATUS": "ontime",
         "FL_DATE": "01/01/2004",
         "FL_NUM": 6155,
         "ORIGIN": "DCA",
         "TAIL_NUM": "N405FJ",
         "Weather": 0,
         "_deepnote_index_column": 1
        },
        {
         "CARRIER": "DH",
         "CRS_DEP_TIME": 1245,
         "DAY_OF_MONTH": 1,
         "DAY_WEEK": 4,
         "DEP_TIME": 1245,
         "DEST": "LGA",
         "DISTANCE": 229,
         "FLIGHT_STATUS": "ontime",
         "FL_DATE": "01/01/2004",
         "FL_NUM": 7208,
         "ORIGIN": "IAD",
         "TAIL_NUM": "N695BR",
         "Weather": 0,
         "_deepnote_index_column": 2
        },
        {
         "CARRIER": "DH",
         "CRS_DEP_TIME": 1715,
         "DAY_OF_MONTH": 1,
         "DAY_WEEK": 4,
         "DEP_TIME": 1709,
         "DEST": "LGA",
         "DISTANCE": 229,
         "FLIGHT_STATUS": "ontime",
         "FL_DATE": "01/01/2004",
         "FL_NUM": 7215,
         "ORIGIN": "IAD",
         "TAIL_NUM": "N662BR",
         "Weather": 0,
         "_deepnote_index_column": 3
        },
        {
         "CARRIER": "DH",
         "CRS_DEP_TIME": 1039,
         "DAY_OF_MONTH": 1,
         "DAY_WEEK": 4,
         "DEP_TIME": 1035,
         "DEST": "LGA",
         "DISTANCE": 229,
         "FLIGHT_STATUS": "ontime",
         "FL_DATE": "01/01/2004",
         "FL_NUM": 7792,
         "ORIGIN": "IAD",
         "TAIL_NUM": "N698BR",
         "Weather": 0,
         "_deepnote_index_column": 4
        },
        {
         "CARRIER": "DH",
         "CRS_DEP_TIME": 840,
         "DAY_OF_MONTH": 1,
         "DAY_WEEK": 4,
         "DEP_TIME": 839,
         "DEST": "JFK",
         "DISTANCE": 228,
         "FLIGHT_STATUS": "ontime",
         "FL_DATE": "01/01/2004",
         "FL_NUM": 7800,
         "ORIGIN": "IAD",
         "TAIL_NUM": "N687BR",
         "Weather": 0,
         "_deepnote_index_column": 5
        },
        {
         "CARRIER": "DH",
         "CRS_DEP_TIME": 1240,
         "DAY_OF_MONTH": 1,
         "DAY_WEEK": 4,
         "DEP_TIME": 1243,
         "DEST": "JFK",
         "DISTANCE": 228,
         "FLIGHT_STATUS": "ontime",
         "FL_DATE": "01/01/2004",
         "FL_NUM": 7806,
         "ORIGIN": "IAD",
         "TAIL_NUM": "N321UE",
         "Weather": 0,
         "_deepnote_index_column": 6
        },
        {
         "CARRIER": "DH",
         "CRS_DEP_TIME": 1645,
         "DAY_OF_MONTH": 1,
         "DAY_WEEK": 4,
         "DEP_TIME": 1644,
         "DEST": "JFK",
         "DISTANCE": 228,
         "FLIGHT_STATUS": "ontime",
         "FL_DATE": "01/01/2004",
         "FL_NUM": 7810,
         "ORIGIN": "IAD",
         "TAIL_NUM": "N301UE",
         "Weather": 0,
         "_deepnote_index_column": 7
        },
        {
         "CARRIER": "DH",
         "CRS_DEP_TIME": 1715,
         "DAY_OF_MONTH": 1,
         "DAY_WEEK": 4,
         "DEP_TIME": 1710,
         "DEST": "JFK",
         "DISTANCE": 228,
         "FLIGHT_STATUS": "ontime",
         "FL_DATE": "01/01/2004",
         "FL_NUM": 7812,
         "ORIGIN": "IAD",
         "TAIL_NUM": "N328UE",
         "Weather": 0,
         "_deepnote_index_column": 8
        },
        {
         "CARRIER": "DH",
         "CRS_DEP_TIME": 2120,
         "DAY_OF_MONTH": 1,
         "DAY_WEEK": 4,
         "DEP_TIME": 2129,
         "DEST": "JFK",
         "DISTANCE": 228,
         "FLIGHT_STATUS": "ontime",
         "FL_DATE": "01/01/2004",
         "FL_NUM": 7814,
         "ORIGIN": "IAD",
         "TAIL_NUM": "N685BR",
         "Weather": 0,
         "_deepnote_index_column": 9
        }
       ]
      },
      "text/html": [
       "<div>\n",
       "<style scoped>\n",
       "    .dataframe tbody tr th:only-of-type {\n",
       "        vertical-align: middle;\n",
       "    }\n",
       "\n",
       "    .dataframe tbody tr th {\n",
       "        vertical-align: top;\n",
       "    }\n",
       "\n",
       "    .dataframe thead th {\n",
       "        text-align: right;\n",
       "    }\n",
       "</style>\n",
       "<table border=\"1\" class=\"dataframe\">\n",
       "  <thead>\n",
       "    <tr style=\"text-align: right;\">\n",
       "      <th></th>\n",
       "      <th>CRS_DEP_TIME</th>\n",
       "      <th>CARRIER</th>\n",
       "      <th>DEP_TIME</th>\n",
       "      <th>DEST</th>\n",
       "      <th>DISTANCE</th>\n",
       "      <th>FL_DATE</th>\n",
       "      <th>FL_NUM</th>\n",
       "      <th>ORIGIN</th>\n",
       "      <th>Weather</th>\n",
       "      <th>DAY_WEEK</th>\n",
       "      <th>DAY_OF_MONTH</th>\n",
       "      <th>TAIL_NUM</th>\n",
       "      <th>FLIGHT_STATUS</th>\n",
       "    </tr>\n",
       "  </thead>\n",
       "  <tbody>\n",
       "    <tr>\n",
       "      <th>0</th>\n",
       "      <td>1455</td>\n",
       "      <td>OH</td>\n",
       "      <td>1455</td>\n",
       "      <td>JFK</td>\n",
       "      <td>184</td>\n",
       "      <td>01/01/2004</td>\n",
       "      <td>5935</td>\n",
       "      <td>BWI</td>\n",
       "      <td>0</td>\n",
       "      <td>4</td>\n",
       "      <td>1</td>\n",
       "      <td>N940CA</td>\n",
       "      <td>ontime</td>\n",
       "    </tr>\n",
       "    <tr>\n",
       "      <th>1</th>\n",
       "      <td>1640</td>\n",
       "      <td>DH</td>\n",
       "      <td>1640</td>\n",
       "      <td>JFK</td>\n",
       "      <td>213</td>\n",
       "      <td>01/01/2004</td>\n",
       "      <td>6155</td>\n",
       "      <td>DCA</td>\n",
       "      <td>0</td>\n",
       "      <td>4</td>\n",
       "      <td>1</td>\n",
       "      <td>N405FJ</td>\n",
       "      <td>ontime</td>\n",
       "    </tr>\n",
       "    <tr>\n",
       "      <th>2</th>\n",
       "      <td>1245</td>\n",
       "      <td>DH</td>\n",
       "      <td>1245</td>\n",
       "      <td>LGA</td>\n",
       "      <td>229</td>\n",
       "      <td>01/01/2004</td>\n",
       "      <td>7208</td>\n",
       "      <td>IAD</td>\n",
       "      <td>0</td>\n",
       "      <td>4</td>\n",
       "      <td>1</td>\n",
       "      <td>N695BR</td>\n",
       "      <td>ontime</td>\n",
       "    </tr>\n",
       "    <tr>\n",
       "      <th>3</th>\n",
       "      <td>1715</td>\n",
       "      <td>DH</td>\n",
       "      <td>1709</td>\n",
       "      <td>LGA</td>\n",
       "      <td>229</td>\n",
       "      <td>01/01/2004</td>\n",
       "      <td>7215</td>\n",
       "      <td>IAD</td>\n",
       "      <td>0</td>\n",
       "      <td>4</td>\n",
       "      <td>1</td>\n",
       "      <td>N662BR</td>\n",
       "      <td>ontime</td>\n",
       "    </tr>\n",
       "    <tr>\n",
       "      <th>4</th>\n",
       "      <td>1039</td>\n",
       "      <td>DH</td>\n",
       "      <td>1035</td>\n",
       "      <td>LGA</td>\n",
       "      <td>229</td>\n",
       "      <td>01/01/2004</td>\n",
       "      <td>7792</td>\n",
       "      <td>IAD</td>\n",
       "      <td>0</td>\n",
       "      <td>4</td>\n",
       "      <td>1</td>\n",
       "      <td>N698BR</td>\n",
       "      <td>ontime</td>\n",
       "    </tr>\n",
       "    <tr>\n",
       "      <th>...</th>\n",
       "      <td>...</td>\n",
       "      <td>...</td>\n",
       "      <td>...</td>\n",
       "      <td>...</td>\n",
       "      <td>...</td>\n",
       "      <td>...</td>\n",
       "      <td>...</td>\n",
       "      <td>...</td>\n",
       "      <td>...</td>\n",
       "      <td>...</td>\n",
       "      <td>...</td>\n",
       "      <td>...</td>\n",
       "      <td>...</td>\n",
       "    </tr>\n",
       "    <tr>\n",
       "      <th>2196</th>\n",
       "      <td>645</td>\n",
       "      <td>RU</td>\n",
       "      <td>644</td>\n",
       "      <td>EWR</td>\n",
       "      <td>199</td>\n",
       "      <td>1/31/2004</td>\n",
       "      <td>2761</td>\n",
       "      <td>DCA</td>\n",
       "      <td>0</td>\n",
       "      <td>6</td>\n",
       "      <td>31</td>\n",
       "      <td>N15555</td>\n",
       "      <td>ontime</td>\n",
       "    </tr>\n",
       "    <tr>\n",
       "      <th>2197</th>\n",
       "      <td>1700</td>\n",
       "      <td>RU</td>\n",
       "      <td>1653</td>\n",
       "      <td>EWR</td>\n",
       "      <td>213</td>\n",
       "      <td>1/31/2004</td>\n",
       "      <td>2497</td>\n",
       "      <td>IAD</td>\n",
       "      <td>0</td>\n",
       "      <td>6</td>\n",
       "      <td>31</td>\n",
       "      <td>N16976</td>\n",
       "      <td>ontime</td>\n",
       "    </tr>\n",
       "    <tr>\n",
       "      <th>2198</th>\n",
       "      <td>1600</td>\n",
       "      <td>RU</td>\n",
       "      <td>1558</td>\n",
       "      <td>EWR</td>\n",
       "      <td>199</td>\n",
       "      <td>1/31/2004</td>\n",
       "      <td>2361</td>\n",
       "      <td>DCA</td>\n",
       "      <td>0</td>\n",
       "      <td>6</td>\n",
       "      <td>31</td>\n",
       "      <td>N14902</td>\n",
       "      <td>ontime</td>\n",
       "    </tr>\n",
       "    <tr>\n",
       "      <th>2199</th>\n",
       "      <td>1359</td>\n",
       "      <td>RU</td>\n",
       "      <td>1403</td>\n",
       "      <td>EWR</td>\n",
       "      <td>199</td>\n",
       "      <td>1/31/2004</td>\n",
       "      <td>2216</td>\n",
       "      <td>DCA</td>\n",
       "      <td>0</td>\n",
       "      <td>6</td>\n",
       "      <td>31</td>\n",
       "      <td>N16961</td>\n",
       "      <td>ontime</td>\n",
       "    </tr>\n",
       "    <tr>\n",
       "      <th>2200</th>\n",
       "      <td>1730</td>\n",
       "      <td>RU</td>\n",
       "      <td>1736</td>\n",
       "      <td>EWR</td>\n",
       "      <td>199</td>\n",
       "      <td>1/31/2004</td>\n",
       "      <td>2097</td>\n",
       "      <td>DCA</td>\n",
       "      <td>0</td>\n",
       "      <td>6</td>\n",
       "      <td>31</td>\n",
       "      <td>N13994</td>\n",
       "      <td>ontime</td>\n",
       "    </tr>\n",
       "  </tbody>\n",
       "</table>\n",
       "<p>2201 rows × 13 columns</p>\n",
       "</div>"
      ],
      "text/plain": [
       "      CRS_DEP_TIME CARRIER  DEP_TIME DEST  DISTANCE     FL_DATE  FL_NUM  \\\n",
       "0             1455      OH      1455  JFK       184  01/01/2004    5935   \n",
       "1             1640      DH      1640  JFK       213  01/01/2004    6155   \n",
       "2             1245      DH      1245  LGA       229  01/01/2004    7208   \n",
       "3             1715      DH      1709  LGA       229  01/01/2004    7215   \n",
       "4             1039      DH      1035  LGA       229  01/01/2004    7792   \n",
       "...            ...     ...       ...  ...       ...         ...     ...   \n",
       "2196           645      RU       644  EWR       199   1/31/2004    2761   \n",
       "2197          1700      RU      1653  EWR       213   1/31/2004    2497   \n",
       "2198          1600      RU      1558  EWR       199   1/31/2004    2361   \n",
       "2199          1359      RU      1403  EWR       199   1/31/2004    2216   \n",
       "2200          1730      RU      1736  EWR       199   1/31/2004    2097   \n",
       "\n",
       "     ORIGIN  Weather  DAY_WEEK  DAY_OF_MONTH TAIL_NUM FLIGHT_STATUS  \n",
       "0       BWI        0         4             1   N940CA        ontime  \n",
       "1       DCA        0         4             1   N405FJ        ontime  \n",
       "2       IAD        0         4             1   N695BR        ontime  \n",
       "3       IAD        0         4             1   N662BR        ontime  \n",
       "4       IAD        0         4             1   N698BR        ontime  \n",
       "...     ...      ...       ...           ...      ...           ...  \n",
       "2196    DCA        0         6            31   N15555        ontime  \n",
       "2197    IAD        0         6            31   N16976        ontime  \n",
       "2198    DCA        0         6            31   N14902        ontime  \n",
       "2199    DCA        0         6            31   N16961        ontime  \n",
       "2200    DCA        0         6            31   N13994        ontime  \n",
       "\n",
       "[2201 rows x 13 columns]"
      ]
     },
     "execution_count": 5,
     "metadata": {},
     "output_type": "execute_result"
    }
   ],
   "source": [
    "# Rename Flight Status column to remove the space to avoid unnecessary error\n",
    "delays_df = delays_df.rename(columns={'Flight Status':'FLIGHT_STATUS'})\n",
    "\n",
    "delays_df"
   ]
  },
  {
   "cell_type": "code",
   "execution_count": null,
   "metadata": {
    "cell_id": "788b58edec9142c98f8dc5ca4d848b9b",
    "deepnote_cell_type": "code",
    "deepnote_to_be_reexecuted": false,
    "execution_millis": 311,
    "execution_start": 1711504432088,
    "source_hash": null
   },
   "outputs": [
    {
     "data": {
      "application/vnd.deepnote.dataframe.v3+json": {
       "column_count": 2,
       "columns": [
        {
         "dtype": "int64",
         "name": "length",
         "stats": {
          "histogram": [
           {
            "bin_end": 2200.6,
            "bin_start": 2200.5,
            "count": 0
           },
           {
            "bin_end": 2200.7,
            "bin_start": 2200.6,
            "count": 0
           },
           {
            "bin_end": 2200.8,
            "bin_start": 2200.7,
            "count": 0
           },
           {
            "bin_end": 2200.9,
            "bin_start": 2200.8,
            "count": 0
           },
           {
            "bin_end": 2201,
            "bin_start": 2200.9,
            "count": 0
           },
           {
            "bin_end": 2201.1,
            "bin_start": 2201,
            "count": 13
           },
           {
            "bin_end": 2201.2,
            "bin_start": 2201.1,
            "count": 0
           },
           {
            "bin_end": 2201.3,
            "bin_start": 2201.2,
            "count": 0
           },
           {
            "bin_end": 2201.4,
            "bin_start": 2201.3,
            "count": 0
           },
           {
            "bin_end": 2201.5,
            "bin_start": 2201.4,
            "count": 0
           }
          ],
          "max": "2201",
          "min": "2201",
          "nan_count": 0,
          "unique_count": 1
         }
        },
        {
         "dtype": "int64",
         "name": "miss.val",
         "stats": {
          "histogram": [
           {
            "bin_end": -0.4,
            "bin_start": -0.5,
            "count": 0
           },
           {
            "bin_end": -0.3,
            "bin_start": -0.4,
            "count": 0
           },
           {
            "bin_end": -0.19999999999999996,
            "bin_start": -0.3,
            "count": 0
           },
           {
            "bin_end": -0.09999999999999998,
            "bin_start": -0.19999999999999996,
            "count": 0
           },
           {
            "bin_end": 0,
            "bin_start": -0.09999999999999998,
            "count": 0
           },
           {
            "bin_end": 0.10000000000000009,
            "bin_start": 0,
            "count": 13
           },
           {
            "bin_end": 0.20000000000000007,
            "bin_start": 0.10000000000000009,
            "count": 0
           },
           {
            "bin_end": 0.30000000000000004,
            "bin_start": 0.20000000000000007,
            "count": 0
           },
           {
            "bin_end": 0.4,
            "bin_start": 0.30000000000000004,
            "count": 0
           },
           {
            "bin_end": 0.5,
            "bin_start": 0.4,
            "count": 0
           }
          ],
          "max": "0",
          "min": "0",
          "nan_count": 0,
          "unique_count": 1
         }
        },
        {
         "dtype": "object",
         "name": "_deepnote_index_column"
        }
       ],
       "row_count": 13,
       "rows": [
        {
         "_deepnote_index_column": "CRS_DEP_TIME",
         "length": 2201,
         "miss.val": 0
        },
        {
         "_deepnote_index_column": "CARRIER",
         "length": 2201,
         "miss.val": 0
        },
        {
         "_deepnote_index_column": "DEP_TIME",
         "length": 2201,
         "miss.val": 0
        },
        {
         "_deepnote_index_column": "DEST",
         "length": 2201,
         "miss.val": 0
        },
        {
         "_deepnote_index_column": "DISTANCE",
         "length": 2201,
         "miss.val": 0
        },
        {
         "_deepnote_index_column": "FL_DATE",
         "length": 2201,
         "miss.val": 0
        },
        {
         "_deepnote_index_column": "FL_NUM",
         "length": 2201,
         "miss.val": 0
        },
        {
         "_deepnote_index_column": "ORIGIN",
         "length": 2201,
         "miss.val": 0
        },
        {
         "_deepnote_index_column": "Weather",
         "length": 2201,
         "miss.val": 0
        },
        {
         "_deepnote_index_column": "DAY_WEEK",
         "length": 2201,
         "miss.val": 0
        }
       ]
      },
      "text/html": [
       "<div>\n",
       "<style scoped>\n",
       "    .dataframe tbody tr th:only-of-type {\n",
       "        vertical-align: middle;\n",
       "    }\n",
       "\n",
       "    .dataframe tbody tr th {\n",
       "        vertical-align: top;\n",
       "    }\n",
       "\n",
       "    .dataframe thead th {\n",
       "        text-align: right;\n",
       "    }\n",
       "</style>\n",
       "<table border=\"1\" class=\"dataframe\">\n",
       "  <thead>\n",
       "    <tr style=\"text-align: right;\">\n",
       "      <th></th>\n",
       "      <th>length</th>\n",
       "      <th>miss.val</th>\n",
       "    </tr>\n",
       "  </thead>\n",
       "  <tbody>\n",
       "    <tr>\n",
       "      <th>CRS_DEP_TIME</th>\n",
       "      <td>2201</td>\n",
       "      <td>0</td>\n",
       "    </tr>\n",
       "    <tr>\n",
       "      <th>CARRIER</th>\n",
       "      <td>2201</td>\n",
       "      <td>0</td>\n",
       "    </tr>\n",
       "    <tr>\n",
       "      <th>DEP_TIME</th>\n",
       "      <td>2201</td>\n",
       "      <td>0</td>\n",
       "    </tr>\n",
       "    <tr>\n",
       "      <th>DEST</th>\n",
       "      <td>2201</td>\n",
       "      <td>0</td>\n",
       "    </tr>\n",
       "    <tr>\n",
       "      <th>DISTANCE</th>\n",
       "      <td>2201</td>\n",
       "      <td>0</td>\n",
       "    </tr>\n",
       "    <tr>\n",
       "      <th>FL_DATE</th>\n",
       "      <td>2201</td>\n",
       "      <td>0</td>\n",
       "    </tr>\n",
       "    <tr>\n",
       "      <th>FL_NUM</th>\n",
       "      <td>2201</td>\n",
       "      <td>0</td>\n",
       "    </tr>\n",
       "    <tr>\n",
       "      <th>ORIGIN</th>\n",
       "      <td>2201</td>\n",
       "      <td>0</td>\n",
       "    </tr>\n",
       "    <tr>\n",
       "      <th>Weather</th>\n",
       "      <td>2201</td>\n",
       "      <td>0</td>\n",
       "    </tr>\n",
       "    <tr>\n",
       "      <th>DAY_WEEK</th>\n",
       "      <td>2201</td>\n",
       "      <td>0</td>\n",
       "    </tr>\n",
       "    <tr>\n",
       "      <th>DAY_OF_MONTH</th>\n",
       "      <td>2201</td>\n",
       "      <td>0</td>\n",
       "    </tr>\n",
       "    <tr>\n",
       "      <th>TAIL_NUM</th>\n",
       "      <td>2201</td>\n",
       "      <td>0</td>\n",
       "    </tr>\n",
       "    <tr>\n",
       "      <th>FLIGHT_STATUS</th>\n",
       "      <td>2201</td>\n",
       "      <td>0</td>\n",
       "    </tr>\n",
       "  </tbody>\n",
       "</table>\n",
       "</div>"
      ],
      "text/plain": [
       "               length  miss.val\n",
       "CRS_DEP_TIME     2201         0\n",
       "CARRIER          2201         0\n",
       "DEP_TIME         2201         0\n",
       "DEST             2201         0\n",
       "DISTANCE         2201         0\n",
       "FL_DATE          2201         0\n",
       "FL_NUM           2201         0\n",
       "ORIGIN           2201         0\n",
       "Weather          2201         0\n",
       "DAY_WEEK         2201         0\n",
       "DAY_OF_MONTH     2201         0\n",
       "TAIL_NUM         2201         0\n",
       "FLIGHT_STATUS    2201         0"
      ]
     },
     "execution_count": 6,
     "metadata": {},
     "output_type": "execute_result"
    }
   ],
   "source": [
    "pd.DataFrame({'length' : len(delays_df),'miss.val': delays_df.isnull().sum(),})"
   ]
  },
  {
   "cell_type": "code",
   "execution_count": null,
   "metadata": {
    "cell_id": "6de9ec156e4f41faa5c0c31cbfa65920",
    "deepnote_cell_type": "code",
    "deepnote_table_loading": false,
    "deepnote_table_state": {
     "filters": [],
     "pageIndex": 3,
     "pageSize": 10,
     "sortBy": []
    },
    "deepnote_to_be_reexecuted": false,
    "execution_millis": 311,
    "execution_start": 1711504432089,
    "source_hash": null
   },
   "outputs": [
    {
     "data": {
      "application/vnd.deepnote.dataframe.v3+json": {
       "column_count": 14,
       "columns": [
        {
         "dtype": "int64",
         "name": "CRS_DEP_TIME",
         "stats": {
          "histogram": [
           {
            "bin_end": 753,
            "bin_start": 600,
            "count": 39
           },
           {
            "bin_end": 906,
            "bin_start": 753,
            "count": 36
           },
           {
            "bin_end": 1059,
            "bin_start": 906,
            "count": 12
           },
           {
            "bin_end": 1212,
            "bin_start": 1059,
            "count": 6
           },
           {
            "bin_end": 1365,
            "bin_start": 1212,
            "count": 43
           },
           {
            "bin_end": 1518,
            "bin_start": 1365,
            "count": 82
           },
           {
            "bin_end": 1671,
            "bin_start": 1518,
            "count": 51
           },
           {
            "bin_end": 1824,
            "bin_start": 1671,
            "count": 64
           },
           {
            "bin_end": 1977,
            "bin_start": 1824,
            "count": 50
           },
           {
            "bin_end": 2130,
            "bin_start": 1977,
            "count": 45
           }
          ],
          "max": "2130",
          "min": "600",
          "nan_count": 0,
          "unique_count": 51
         }
        },
        {
         "dtype": "object",
         "name": "CARRIER",
         "stats": {
          "categories": [
           {
            "count": 137,
            "name": "DH"
           },
           {
            "count": 94,
            "name": "RU"
           },
           {
            "count": 197,
            "name": "6 others"
           }
          ],
          "nan_count": 0,
          "unique_count": 8
         }
        },
        {
         "dtype": "int64",
         "name": "DEP_TIME",
         "stats": {
          "histogram": [
           {
            "bin_end": 242,
            "bin_start": 10,
            "count": 2
           },
           {
            "bin_end": 474,
            "bin_start": 242,
            "count": 0
           },
           {
            "bin_end": 706,
            "bin_start": 474,
            "count": 23
           },
           {
            "bin_end": 938,
            "bin_start": 706,
            "count": 43
           },
           {
            "bin_end": 1170,
            "bin_start": 938,
            "count": 23
           },
           {
            "bin_end": 1402,
            "bin_start": 1170,
            "count": 39
           },
           {
            "bin_end": 1634,
            "bin_start": 1402,
            "count": 114
           },
           {
            "bin_end": 1866,
            "bin_start": 1634,
            "count": 85
           },
           {
            "bin_end": 2098,
            "bin_start": 1866,
            "count": 63
           },
           {
            "bin_end": 2330,
            "bin_start": 2098,
            "count": 36
           }
          ],
          "max": "2330",
          "min": "10",
          "nan_count": 0,
          "unique_count": 320
         }
        },
        {
         "dtype": "object",
         "name": "DEST",
         "stats": {
          "categories": [
           {
            "count": 183,
            "name": "LGA"
           },
           {
            "count": 161,
            "name": "EWR"
           },
           {
            "count": 84,
            "name": "JFK"
           }
          ],
          "nan_count": 0,
          "unique_count": 3
         }
        },
        {
         "dtype": "int64",
         "name": "DISTANCE",
         "stats": {
          "histogram": [
           {
            "bin_end": 175,
            "bin_start": 169,
            "count": 33
           },
           {
            "bin_end": 181,
            "bin_start": 175,
            "count": 0
           },
           {
            "bin_end": 187,
            "bin_start": 181,
            "count": 4
           },
           {
            "bin_end": 193,
            "bin_start": 187,
            "count": 0
           },
           {
            "bin_end": 199,
            "bin_start": 193,
            "count": 0
           },
           {
            "bin_end": 205,
            "bin_start": 199,
            "count": 54
           },
           {
            "bin_end": 211,
            "bin_start": 205,
            "count": 0
           },
           {
            "bin_end": 217,
            "bin_start": 211,
            "count": 241
           },
           {
            "bin_end": 223,
            "bin_start": 217,
            "count": 0
           },
           {
            "bin_end": 229,
            "bin_start": 223,
            "count": 96
           }
          ],
          "max": "229",
          "min": "169",
          "nan_count": 0,
          "unique_count": 7
         }
        },
        {
         "dtype": "object",
         "name": "FL_DATE",
         "stats": {
          "categories": [
           {
            "count": 34,
            "name": "1/26/2004"
           },
           {
            "count": 31,
            "name": "1/27/2004"
           },
           {
            "count": 363,
            "name": "28 others"
           }
          ],
          "nan_count": 0,
          "unique_count": 30
         }
        },
        {
         "dtype": "int64",
         "name": "FL_NUM",
         "stats": {
          "histogram": [
           {
            "bin_end": 1453.2,
            "bin_start": 746,
            "count": 46
           },
           {
            "bin_end": 2160.4,
            "bin_start": 1453.2,
            "count": 49
           },
           {
            "bin_end": 2867.6000000000004,
            "bin_start": 2160.4,
            "count": 97
           },
           {
            "bin_end": 3574.8,
            "bin_start": 2867.6000000000004,
            "count": 15
           },
           {
            "bin_end": 4282,
            "bin_start": 3574.8,
            "count": 0
           },
           {
            "bin_end": 4989.200000000001,
            "bin_start": 4282,
            "count": 80
           },
           {
            "bin_end": 5696.400000000001,
            "bin_start": 4989.200000000001,
            "count": 0
           },
           {
            "bin_end": 6403.6,
            "bin_start": 5696.400000000001,
            "count": 9
           },
           {
            "bin_end": 7110.8,
            "bin_start": 6403.6,
            "count": 0
           },
           {
            "bin_end": 7818,
            "bin_start": 7110.8,
            "count": 132
           }
          ],
          "max": "7818",
          "min": "746",
          "nan_count": 0,
          "unique_count": 85
         }
        },
        {
         "dtype": "object",
         "name": "ORIGIN",
         "stats": {
          "categories": [
           {
            "count": 221,
            "name": "DCA"
           },
           {
            "count": 170,
            "name": "IAD"
           },
           {
            "count": 37,
            "name": "BWI"
           }
          ],
          "nan_count": 0,
          "unique_count": 3
         }
        },
        {
         "dtype": "int64",
         "name": "Weather",
         "stats": {
          "histogram": [
           {
            "bin_end": 0.1,
            "bin_start": 0,
            "count": 396
           },
           {
            "bin_end": 0.2,
            "bin_start": 0.1,
            "count": 0
           },
           {
            "bin_end": 0.30000000000000004,
            "bin_start": 0.2,
            "count": 0
           },
           {
            "bin_end": 0.4,
            "bin_start": 0.30000000000000004,
            "count": 0
           },
           {
            "bin_end": 0.5,
            "bin_start": 0.4,
            "count": 0
           },
           {
            "bin_end": 0.6000000000000001,
            "bin_start": 0.5,
            "count": 0
           },
           {
            "bin_end": 0.7000000000000001,
            "bin_start": 0.6000000000000001,
            "count": 0
           },
           {
            "bin_end": 0.8,
            "bin_start": 0.7000000000000001,
            "count": 0
           },
           {
            "bin_end": 0.9,
            "bin_start": 0.8,
            "count": 0
           },
           {
            "bin_end": 1,
            "bin_start": 0.9,
            "count": 32
           }
          ],
          "max": "1",
          "min": "0",
          "nan_count": 0,
          "unique_count": 2
         }
        },
        {
         "dtype": "int64",
         "name": "DAY_WEEK",
         "stats": {
          "histogram": [
           {
            "bin_end": 1.6,
            "bin_start": 1,
            "count": 84
           },
           {
            "bin_end": 2.2,
            "bin_start": 1.6,
            "count": 63
           },
           {
            "bin_end": 2.8,
            "bin_start": 2.2,
            "count": 0
           },
           {
            "bin_end": 3.4,
            "bin_start": 2.8,
            "count": 57
           },
           {
            "bin_end": 4,
            "bin_start": 3.4,
            "count": 0
           },
           {
            "bin_end": 4.6,
            "bin_start": 4,
            "count": 57
           },
           {
            "bin_end": 5.2,
            "bin_start": 4.6,
            "count": 75
           },
           {
            "bin_end": 5.8,
            "bin_start": 5.2,
            "count": 0
           },
           {
            "bin_end": 6.3999999999999995,
            "bin_start": 5.8,
            "count": 24
           },
           {
            "bin_end": 7,
            "bin_start": 6.3999999999999995,
            "count": 68
           }
          ],
          "max": "7",
          "min": "1",
          "nan_count": 0,
          "unique_count": 7
         }
        },
        {
         "dtype": "int64",
         "name": "DAY_OF_MONTH",
         "stats": {
          "histogram": [
           {
            "bin_end": 4.9,
            "bin_start": 2,
            "count": 32
           },
           {
            "bin_end": 7.8,
            "bin_start": 4.9,
            "count": 55
           },
           {
            "bin_end": 10.7,
            "bin_start": 7.8,
            "count": 27
           },
           {
            "bin_end": 13.6,
            "bin_start": 10.7,
            "count": 32
           },
           {
            "bin_end": 16.5,
            "bin_start": 13.6,
            "count": 64
           },
           {
            "bin_end": 19.4,
            "bin_start": 16.5,
            "count": 45
           },
           {
            "bin_end": 22.3,
            "bin_start": 19.4,
            "count": 25
           },
           {
            "bin_end": 25.2,
            "bin_start": 22.3,
            "count": 30
           },
           {
            "bin_end": 28.099999999999998,
            "bin_start": 25.2,
            "count": 86
           },
           {
            "bin_end": 31,
            "bin_start": 28.099999999999998,
            "count": 32
           }
          ],
          "max": "31",
          "min": "2",
          "nan_count": 0,
          "unique_count": 30
         }
        },
        {
         "dtype": "object",
         "name": "TAIL_NUM",
         "stats": {
          "categories": [
           {
            "count": 6,
            "name": "N703MQ"
           },
           {
            "count": 6,
            "name": "N225DL"
           },
           {
            "count": 416,
            "name": "274 others"
           }
          ],
          "nan_count": 0,
          "unique_count": 276
         }
        },
        {
         "dtype": "object",
         "name": "FLIGHT_STATUS",
         "stats": {
          "categories": [
           {
            "count": 428,
            "name": "delayed"
           }
          ],
          "nan_count": 0,
          "unique_count": 1
         }
        },
        {
         "dtype": "int64",
         "name": "dep_delay_in_min",
         "stats": {
          "histogram": [
           {
            "bin_end": -1856.5,
            "bin_start": -2110,
            "count": 2
           },
           {
            "bin_end": -1603,
            "bin_start": -1856.5,
            "count": 0
           },
           {
            "bin_end": -1349.5,
            "bin_start": -1603,
            "count": 0
           },
           {
            "bin_end": -1096,
            "bin_start": -1349.5,
            "count": 0
           },
           {
            "bin_end": -842.5,
            "bin_start": -1096,
            "count": 0
           },
           {
            "bin_end": -589,
            "bin_start": -842.5,
            "count": 0
           },
           {
            "bin_end": -335.5,
            "bin_start": -589,
            "count": 0
           },
           {
            "bin_end": -82,
            "bin_start": -335.5,
            "count": 0
           },
           {
            "bin_end": 171.5,
            "bin_start": -82,
            "count": 382
           },
           {
            "bin_end": 425,
            "bin_start": 171.5,
            "count": 44
           }
          ],
          "max": "425",
          "min": "-2110",
          "nan_count": 0,
          "unique_count": 183
         }
        },
        {
         "dtype": "int64",
         "name": "_deepnote_index_column"
        }
       ],
       "row_count": 428,
       "rows": [
        {
         "CARRIER": "RU",
         "CRS_DEP_TIME": 1900,
         "DAY_OF_MONTH": 4,
         "DAY_WEEK": 7,
         "DEP_TIME": 2120,
         "DEST": "EWR",
         "DISTANCE": 199,
         "FLIGHT_STATUS": "delayed",
         "FL_DATE": "01/04/2004",
         "FL_NUM": 2336,
         "ORIGIN": "DCA",
         "TAIL_NUM": "N12569",
         "Weather": 0,
         "_deepnote_index_column": 224,
         "dep_delay_in_min": 220
        },
        {
         "CARRIER": "RU",
         "CRS_DEP_TIME": 1515,
         "DAY_OF_MONTH": 4,
         "DAY_WEEK": 7,
         "DEP_TIME": 1557,
         "DEST": "EWR",
         "DISTANCE": 213,
         "FLIGHT_STATUS": "delayed",
         "FL_DATE": "01/04/2004",
         "FL_NUM": 2156,
         "ORIGIN": "IAD",
         "TAIL_NUM": "N18101",
         "Weather": 0,
         "_deepnote_index_column": 225,
         "dep_delay_in_min": 42
        },
        {
         "CARRIER": "OH",
         "CRS_DEP_TIME": 1455,
         "DAY_OF_MONTH": 5,
         "DAY_WEEK": 1,
         "DEP_TIME": 1610,
         "DEST": "JFK",
         "DISTANCE": 184,
         "FLIGHT_STATUS": "delayed",
         "FL_DATE": "01/05/2004",
         "FL_NUM": 5935,
         "ORIGIN": "BWI",
         "TAIL_NUM": "N814CA",
         "Weather": 0,
         "_deepnote_index_column": 226,
         "dep_delay_in_min": 155
        },
        {
         "CARRIER": "DH",
         "CRS_DEP_TIME": 1640,
         "DAY_OF_MONTH": 5,
         "DAY_WEEK": 1,
         "DEP_TIME": 1638,
         "DEST": "JFK",
         "DISTANCE": 213,
         "FLIGHT_STATUS": "delayed",
         "FL_DATE": "01/05/2004",
         "FL_NUM": 6155,
         "ORIGIN": "DCA",
         "TAIL_NUM": "N424FJ",
         "Weather": 0,
         "_deepnote_index_column": 227,
         "dep_delay_in_min": -2
        },
        {
         "CARRIER": "DH",
         "CRS_DEP_TIME": 1245,
         "DAY_OF_MONTH": 5,
         "DAY_WEEK": 1,
         "DEP_TIME": 1338,
         "DEST": "LGA",
         "DISTANCE": 229,
         "FLIGHT_STATUS": "delayed",
         "FL_DATE": "01/05/2004",
         "FL_NUM": 7208,
         "ORIGIN": "IAD",
         "TAIL_NUM": "N674BR",
         "Weather": 0,
         "_deepnote_index_column": 228,
         "dep_delay_in_min": 93
        },
        {
         "CARRIER": "DH",
         "CRS_DEP_TIME": 1455,
         "DAY_OF_MONTH": 5,
         "DAY_WEEK": 1,
         "DEP_TIME": 1606,
         "DEST": "LGA",
         "DISTANCE": 229,
         "FLIGHT_STATUS": "delayed",
         "FL_DATE": "01/05/2004",
         "FL_NUM": 7211,
         "ORIGIN": "IAD",
         "TAIL_NUM": "N643BR",
         "Weather": 0,
         "_deepnote_index_column": 229,
         "dep_delay_in_min": 151
        },
        {
         "CARRIER": "DH",
         "CRS_DEP_TIME": 1715,
         "DAY_OF_MONTH": 5,
         "DAY_WEEK": 1,
         "DEP_TIME": 1848,
         "DEST": "LGA",
         "DISTANCE": 229,
         "FLIGHT_STATUS": "delayed",
         "FL_DATE": "01/05/2004",
         "FL_NUM": 7215,
         "ORIGIN": "IAD",
         "TAIL_NUM": "N649BR",
         "Weather": 0,
         "_deepnote_index_column": 230,
         "dep_delay_in_min": 133
        },
        {
         "CARRIER": "DH",
         "CRS_DEP_TIME": 640,
         "DAY_OF_MONTH": 5,
         "DAY_WEEK": 1,
         "DEP_TIME": 633,
         "DEST": "LGA",
         "DISTANCE": 229,
         "FLIGHT_STATUS": "delayed",
         "FL_DATE": "01/05/2004",
         "FL_NUM": 7790,
         "ORIGIN": "IAD",
         "TAIL_NUM": "N643BR",
         "Weather": 0,
         "_deepnote_index_column": 231,
         "dep_delay_in_min": -7
        },
        {
         "CARRIER": "DH",
         "CRS_DEP_TIME": 840,
         "DAY_OF_MONTH": 5,
         "DAY_WEEK": 1,
         "DEP_TIME": 946,
         "DEST": "JFK",
         "DISTANCE": 228,
         "FLIGHT_STATUS": "delayed",
         "FL_DATE": "01/05/2004",
         "FL_NUM": 7800,
         "ORIGIN": "IAD",
         "TAIL_NUM": "N651BR",
         "Weather": 0,
         "_deepnote_index_column": 233,
         "dep_delay_in_min": 106
        },
        {
         "CARRIER": "DH",
         "CRS_DEP_TIME": 1240,
         "DAY_OF_MONTH": 5,
         "DAY_WEEK": 1,
         "DEP_TIME": 1312,
         "DEST": "JFK",
         "DISTANCE": 228,
         "FLIGHT_STATUS": "delayed",
         "FL_DATE": "01/05/2004",
         "FL_NUM": 7806,
         "ORIGIN": "IAD",
         "TAIL_NUM": "N305UE",
         "Weather": 0,
         "_deepnote_index_column": 234,
         "dep_delay_in_min": 72
        }
       ]
      },
      "text/html": [
       "<div>\n",
       "<style scoped>\n",
       "    .dataframe tbody tr th:only-of-type {\n",
       "        vertical-align: middle;\n",
       "    }\n",
       "\n",
       "    .dataframe tbody tr th {\n",
       "        vertical-align: top;\n",
       "    }\n",
       "\n",
       "    .dataframe thead th {\n",
       "        text-align: right;\n",
       "    }\n",
       "</style>\n",
       "<table border=\"1\" class=\"dataframe\">\n",
       "  <thead>\n",
       "    <tr style=\"text-align: right;\">\n",
       "      <th></th>\n",
       "      <th>CRS_DEP_TIME</th>\n",
       "      <th>CARRIER</th>\n",
       "      <th>DEP_TIME</th>\n",
       "      <th>DEST</th>\n",
       "      <th>DISTANCE</th>\n",
       "      <th>FL_DATE</th>\n",
       "      <th>FL_NUM</th>\n",
       "      <th>ORIGIN</th>\n",
       "      <th>Weather</th>\n",
       "      <th>DAY_WEEK</th>\n",
       "      <th>DAY_OF_MONTH</th>\n",
       "      <th>TAIL_NUM</th>\n",
       "      <th>FLIGHT_STATUS</th>\n",
       "      <th>dep_delay_in_min</th>\n",
       "    </tr>\n",
       "  </thead>\n",
       "  <tbody>\n",
       "    <tr>\n",
       "      <th>53</th>\n",
       "      <td>1455</td>\n",
       "      <td>DH</td>\n",
       "      <td>1531</td>\n",
       "      <td>LGA</td>\n",
       "      <td>229</td>\n",
       "      <td>01/02/2004</td>\n",
       "      <td>7211</td>\n",
       "      <td>IAD</td>\n",
       "      <td>0</td>\n",
       "      <td>5</td>\n",
       "      <td>2</td>\n",
       "      <td>N665BR</td>\n",
       "      <td>delayed</td>\n",
       "      <td>76</td>\n",
       "    </tr>\n",
       "    <tr>\n",
       "      <th>56</th>\n",
       "      <td>1039</td>\n",
       "      <td>DH</td>\n",
       "      <td>1236</td>\n",
       "      <td>LGA</td>\n",
       "      <td>229</td>\n",
       "      <td>01/02/2004</td>\n",
       "      <td>7792</td>\n",
       "      <td>IAD</td>\n",
       "      <td>0</td>\n",
       "      <td>5</td>\n",
       "      <td>2</td>\n",
       "      <td>N665BR</td>\n",
       "      <td>delayed</td>\n",
       "      <td>197</td>\n",
       "    </tr>\n",
       "    <tr>\n",
       "      <th>62</th>\n",
       "      <td>2120</td>\n",
       "      <td>DH</td>\n",
       "      <td>2305</td>\n",
       "      <td>JFK</td>\n",
       "      <td>228</td>\n",
       "      <td>01/02/2004</td>\n",
       "      <td>7814</td>\n",
       "      <td>IAD</td>\n",
       "      <td>0</td>\n",
       "      <td>5</td>\n",
       "      <td>2</td>\n",
       "      <td>N657BR</td>\n",
       "      <td>delayed</td>\n",
       "      <td>185</td>\n",
       "    </tr>\n",
       "    <tr>\n",
       "      <th>96</th>\n",
       "      <td>1245</td>\n",
       "      <td>DH</td>\n",
       "      <td>1350</td>\n",
       "      <td>EWR</td>\n",
       "      <td>213</td>\n",
       "      <td>01/02/2004</td>\n",
       "      <td>7303</td>\n",
       "      <td>IAD</td>\n",
       "      <td>0</td>\n",
       "      <td>5</td>\n",
       "      <td>2</td>\n",
       "      <td>N686BR</td>\n",
       "      <td>delayed</td>\n",
       "      <td>105</td>\n",
       "    </tr>\n",
       "    <tr>\n",
       "      <th>97</th>\n",
       "      <td>1430</td>\n",
       "      <td>DH</td>\n",
       "      <td>1512</td>\n",
       "      <td>EWR</td>\n",
       "      <td>213</td>\n",
       "      <td>01/02/2004</td>\n",
       "      <td>7307</td>\n",
       "      <td>IAD</td>\n",
       "      <td>0</td>\n",
       "      <td>5</td>\n",
       "      <td>2</td>\n",
       "      <td>N309UE</td>\n",
       "      <td>delayed</td>\n",
       "      <td>82</td>\n",
       "    </tr>\n",
       "    <tr>\n",
       "      <th>...</th>\n",
       "      <td>...</td>\n",
       "      <td>...</td>\n",
       "      <td>...</td>\n",
       "      <td>...</td>\n",
       "      <td>...</td>\n",
       "      <td>...</td>\n",
       "      <td>...</td>\n",
       "      <td>...</td>\n",
       "      <td>...</td>\n",
       "      <td>...</td>\n",
       "      <td>...</td>\n",
       "      <td>...</td>\n",
       "      <td>...</td>\n",
       "      <td>...</td>\n",
       "    </tr>\n",
       "    <tr>\n",
       "      <th>2146</th>\n",
       "      <td>1525</td>\n",
       "      <td>RU</td>\n",
       "      <td>1601</td>\n",
       "      <td>EWR</td>\n",
       "      <td>199</td>\n",
       "      <td>1/30/2004</td>\n",
       "      <td>2261</td>\n",
       "      <td>DCA</td>\n",
       "      <td>0</td>\n",
       "      <td>5</td>\n",
       "      <td>30</td>\n",
       "      <td>N13979</td>\n",
       "      <td>delayed</td>\n",
       "      <td>76</td>\n",
       "    </tr>\n",
       "    <tr>\n",
       "      <th>2149</th>\n",
       "      <td>1500</td>\n",
       "      <td>RU</td>\n",
       "      <td>1456</td>\n",
       "      <td>EWR</td>\n",
       "      <td>213</td>\n",
       "      <td>1/30/2004</td>\n",
       "      <td>2156</td>\n",
       "      <td>IAD</td>\n",
       "      <td>0</td>\n",
       "      <td>5</td>\n",
       "      <td>30</td>\n",
       "      <td>N21144</td>\n",
       "      <td>delayed</td>\n",
       "      <td>-44</td>\n",
       "    </tr>\n",
       "    <tr>\n",
       "      <th>2150</th>\n",
       "      <td>700</td>\n",
       "      <td>RU</td>\n",
       "      <td>659</td>\n",
       "      <td>EWR</td>\n",
       "      <td>213</td>\n",
       "      <td>1/30/2004</td>\n",
       "      <td>2855</td>\n",
       "      <td>IAD</td>\n",
       "      <td>0</td>\n",
       "      <td>5</td>\n",
       "      <td>30</td>\n",
       "      <td>N11121</td>\n",
       "      <td>delayed</td>\n",
       "      <td>-41</td>\n",
       "    </tr>\n",
       "    <tr>\n",
       "      <th>2156</th>\n",
       "      <td>840</td>\n",
       "      <td>DH</td>\n",
       "      <td>931</td>\n",
       "      <td>JFK</td>\n",
       "      <td>228</td>\n",
       "      <td>1/31/2004</td>\n",
       "      <td>7800</td>\n",
       "      <td>IAD</td>\n",
       "      <td>0</td>\n",
       "      <td>6</td>\n",
       "      <td>31</td>\n",
       "      <td>N655BR</td>\n",
       "      <td>delayed</td>\n",
       "      <td>91</td>\n",
       "    </tr>\n",
       "    <tr>\n",
       "      <th>2164</th>\n",
       "      <td>830</td>\n",
       "      <td>DL</td>\n",
       "      <td>840</td>\n",
       "      <td>LGA</td>\n",
       "      <td>214</td>\n",
       "      <td>1/31/2004</td>\n",
       "      <td>1744</td>\n",
       "      <td>DCA</td>\n",
       "      <td>0</td>\n",
       "      <td>6</td>\n",
       "      <td>31</td>\n",
       "      <td>N232DZ</td>\n",
       "      <td>delayed</td>\n",
       "      <td>10</td>\n",
       "    </tr>\n",
       "  </tbody>\n",
       "</table>\n",
       "<p>428 rows × 14 columns</p>\n",
       "</div>"
      ],
      "text/plain": [
       "      CRS_DEP_TIME CARRIER  DEP_TIME DEST  DISTANCE     FL_DATE  FL_NUM  \\\n",
       "53            1455      DH      1531  LGA       229  01/02/2004    7211   \n",
       "56            1039      DH      1236  LGA       229  01/02/2004    7792   \n",
       "62            2120      DH      2305  JFK       228  01/02/2004    7814   \n",
       "96            1245      DH      1350  EWR       213  01/02/2004    7303   \n",
       "97            1430      DH      1512  EWR       213  01/02/2004    7307   \n",
       "...            ...     ...       ...  ...       ...         ...     ...   \n",
       "2146          1525      RU      1601  EWR       199   1/30/2004    2261   \n",
       "2149          1500      RU      1456  EWR       213   1/30/2004    2156   \n",
       "2150           700      RU       659  EWR       213   1/30/2004    2855   \n",
       "2156           840      DH       931  JFK       228   1/31/2004    7800   \n",
       "2164           830      DL       840  LGA       214   1/31/2004    1744   \n",
       "\n",
       "     ORIGIN  Weather  DAY_WEEK  DAY_OF_MONTH TAIL_NUM FLIGHT_STATUS  \\\n",
       "53      IAD        0         5             2   N665BR       delayed   \n",
       "56      IAD        0         5             2   N665BR       delayed   \n",
       "62      IAD        0         5             2   N657BR       delayed   \n",
       "96      IAD        0         5             2   N686BR       delayed   \n",
       "97      IAD        0         5             2   N309UE       delayed   \n",
       "...     ...      ...       ...           ...      ...           ...   \n",
       "2146    DCA        0         5            30   N13979       delayed   \n",
       "2149    IAD        0         5            30   N21144       delayed   \n",
       "2150    IAD        0         5            30   N11121       delayed   \n",
       "2156    IAD        0         6            31   N655BR       delayed   \n",
       "2164    DCA        0         6            31   N232DZ       delayed   \n",
       "\n",
       "      dep_delay_in_min  \n",
       "53                  76  \n",
       "56                 197  \n",
       "62                 185  \n",
       "96                 105  \n",
       "97                  82  \n",
       "...                ...  \n",
       "2146                76  \n",
       "2149               -44  \n",
       "2150               -41  \n",
       "2156                91  \n",
       "2164                10  \n",
       "\n",
       "[428 rows x 14 columns]"
      ]
     },
     "execution_count": 7,
     "metadata": {},
     "output_type": "execute_result"
    }
   ],
   "source": [
    "# column to see delay in minutes\n",
    "# negative = flight departs earlier, positive = flight departs later than scheduled\n",
    "delays_df['dep_delay_in_min'] = delays_df['DEP_TIME'] - delays_df['CRS_DEP_TIME']\n",
    "\n",
    "delays_df[delays_df['FLIGHT_STATUS'] == 'delayed']"
   ]
  },
  {
   "cell_type": "code",
   "execution_count": null,
   "metadata": {
    "cell_id": "ca8170a4a9b44259a17ba27225a1e803",
    "deepnote_cell_type": "code",
    "deepnote_to_be_reexecuted": false,
    "execution_millis": 568,
    "execution_start": 1711504432128,
    "source_hash": null
   },
   "outputs": [
    {
     "data": {
      "application/vnd.deepnote.dataframe.v3+json": {
       "column_count": 14,
       "columns": [
        {
         "dtype": "int64",
         "name": "CRS_DEP_TIME",
         "stats": {
          "histogram": [
           {
            "bin_end": 753,
            "bin_start": 600,
            "count": 220
           },
           {
            "bin_end": 906,
            "bin_start": 753,
            "count": 205
           },
           {
            "bin_end": 1059,
            "bin_start": 906,
            "count": 119
           },
           {
            "bin_end": 1212,
            "bin_start": 1059,
            "count": 84
           },
           {
            "bin_end": 1365,
            "bin_start": 1212,
            "count": 234
           },
           {
            "bin_end": 1518,
            "bin_start": 1365,
            "count": 236
           },
           {
            "bin_end": 1671,
            "bin_start": 1518,
            "count": 199
           },
           {
            "bin_end": 1824,
            "bin_start": 1671,
            "count": 204
           },
           {
            "bin_end": 1977,
            "bin_start": 1824,
            "count": 127
           },
           {
            "bin_end": 2130,
            "bin_start": 1977,
            "count": 145
           }
          ],
          "max": "2130",
          "min": "600",
          "nan_count": 0,
          "unique_count": 58
         }
        },
        {
         "dtype": "object",
         "name": "CARRIER",
         "stats": {
          "categories": [
           {
            "count": 414,
            "name": "DH"
           },
           {
            "count": 369,
            "name": "US"
           },
           {
            "count": 990,
            "name": "6 others"
           }
          ],
          "nan_count": 0,
          "unique_count": 8
         }
        },
        {
         "dtype": "int64",
         "name": "DEP_TIME",
         "stats": {
          "histogram": [
           {
            "bin_end": 707.7,
            "bin_start": 548,
            "count": 182
           },
           {
            "bin_end": 867.4,
            "bin_start": 707.7,
            "count": 236
           },
           {
            "bin_end": 1027.1,
            "bin_start": 867.4,
            "count": 67
           },
           {
            "bin_end": 1186.8,
            "bin_start": 1027.1,
            "count": 142
           },
           {
            "bin_end": 1346.5,
            "bin_start": 1186.8,
            "count": 214
           },
           {
            "bin_end": 1506.1999999999998,
            "bin_start": 1346.5,
            "count": 251
           },
           {
            "bin_end": 1665.8999999999999,
            "bin_start": 1506.1999999999998,
            "count": 263
           },
           {
            "bin_end": 1825.6,
            "bin_start": 1665.8999999999999,
            "count": 153
           },
           {
            "bin_end": 1985.3,
            "bin_start": 1825.6,
            "count": 133
           },
           {
            "bin_end": 2145,
            "bin_start": 1985.3,
            "count": 132
           }
          ],
          "max": "2145",
          "min": "548",
          "nan_count": 0,
          "unique_count": 503
         }
        },
        {
         "dtype": "object",
         "name": "DEST",
         "stats": {
          "categories": [
           {
            "count": 967,
            "name": "LGA"
           },
           {
            "count": 504,
            "name": "EWR"
           },
           {
            "count": 302,
            "name": "JFK"
           }
          ],
          "nan_count": 0,
          "unique_count": 3
         }
        },
        {
         "dtype": "int64",
         "name": "DISTANCE",
         "stats": {
          "histogram": [
           {
            "bin_end": 175,
            "bin_start": 169,
            "count": 82
           },
           {
            "bin_end": 181,
            "bin_start": 175,
            "count": 0
           },
           {
            "bin_end": 187,
            "bin_start": 181,
            "count": 26
           },
           {
            "bin_end": 193,
            "bin_start": 187,
            "count": 0
           },
           {
            "bin_end": 199,
            "bin_start": 193,
            "count": 0
           },
           {
            "bin_end": 205,
            "bin_start": 199,
            "count": 202
           },
           {
            "bin_end": 211,
            "bin_start": 205,
            "count": 0
           },
           {
            "bin_end": 217,
            "bin_start": 211,
            "count": 1167
           },
           {
            "bin_end": 223,
            "bin_start": 217,
            "count": 0
           },
           {
            "bin_end": 229,
            "bin_start": 223,
            "count": 296
           }
          ],
          "max": "229",
          "min": "169",
          "nan_count": 0,
          "unique_count": 7
         }
        },
        {
         "dtype": "object",
         "name": "FL_DATE",
         "stats": {
          "categories": [
           {
            "count": 78,
            "name": "1/20/2004"
           },
           {
            "count": 77,
            "name": "1/22/2004"
           },
           {
            "count": 1618,
            "name": "29 others"
           }
          ],
          "nan_count": 0,
          "unique_count": 31
         }
        },
        {
         "dtype": "int64",
         "name": "FL_NUM",
         "stats": {
          "histogram": [
           {
            "bin_end": 1463.8,
            "bin_start": 746,
            "count": 107
           },
           {
            "bin_end": 2181.6,
            "bin_start": 1463.8,
            "count": 655
           },
           {
            "bin_end": 2899.3999999999996,
            "bin_start": 2181.6,
            "count": 340
           },
           {
            "bin_end": 3617.2,
            "bin_start": 2899.3999999999996,
            "count": 16
           },
           {
            "bin_end": 4335,
            "bin_start": 3617.2,
            "count": 0
           },
           {
            "bin_end": 5052.799999999999,
            "bin_start": 4335,
            "count": 215
           },
           {
            "bin_end": 5770.599999999999,
            "bin_start": 5052.799999999999,
            "count": 0
           },
           {
            "bin_end": 6488.4,
            "bin_start": 5770.599999999999,
            "count": 48
           },
           {
            "bin_end": 7206.2,
            "bin_start": 6488.4,
            "count": 0
           },
           {
            "bin_end": 7924,
            "bin_start": 7206.2,
            "count": 392
           }
          ],
          "max": "7924",
          "min": "746",
          "nan_count": 0,
          "unique_count": 102
         }
        },
        {
         "dtype": "object",
         "name": "ORIGIN",
         "stats": {
          "categories": [
           {
            "count": 1149,
            "name": "DCA"
           },
           {
            "count": 516,
            "name": "IAD"
           },
           {
            "count": 108,
            "name": "BWI"
           }
          ],
          "nan_count": 0,
          "unique_count": 3
         }
        },
        {
         "dtype": "int64",
         "name": "Weather",
         "stats": {
          "histogram": [
           {
            "bin_end": -0.4,
            "bin_start": -0.5,
            "count": 0
           },
           {
            "bin_end": -0.3,
            "bin_start": -0.4,
            "count": 0
           },
           {
            "bin_end": -0.19999999999999996,
            "bin_start": -0.3,
            "count": 0
           },
           {
            "bin_end": -0.09999999999999998,
            "bin_start": -0.19999999999999996,
            "count": 0
           },
           {
            "bin_end": 0,
            "bin_start": -0.09999999999999998,
            "count": 0
           },
           {
            "bin_end": 0.10000000000000009,
            "bin_start": 0,
            "count": 1773
           },
           {
            "bin_end": 0.20000000000000007,
            "bin_start": 0.10000000000000009,
            "count": 0
           },
           {
            "bin_end": 0.30000000000000004,
            "bin_start": 0.20000000000000007,
            "count": 0
           },
           {
            "bin_end": 0.4,
            "bin_start": 0.30000000000000004,
            "count": 0
           },
           {
            "bin_end": 0.5,
            "bin_start": 0.4,
            "count": 0
           }
          ],
          "max": "0",
          "min": "0",
          "nan_count": 0,
          "unique_count": 1
         }
        },
        {
         "dtype": "int64",
         "name": "DAY_WEEK",
         "stats": {
          "histogram": [
           {
            "bin_end": 1.6,
            "bin_start": 1,
            "count": 224
           },
           {
            "bin_end": 2.2,
            "bin_start": 1.6,
            "count": 244
           },
           {
            "bin_end": 2.8,
            "bin_start": 2.2,
            "count": 0
           },
           {
            "bin_end": 3.4,
            "bin_start": 2.8,
            "count": 263
           },
           {
            "bin_end": 4,
            "bin_start": 3.4,
            "count": 0
           },
           {
            "bin_end": 4.6,
            "bin_start": 4,
            "count": 315
           },
           {
            "bin_end": 5.2,
            "bin_start": 4.6,
            "count": 316
           },
           {
            "bin_end": 5.8,
            "bin_start": 5.2,
            "count": 0
           },
           {
            "bin_end": 6.3999999999999995,
            "bin_start": 5.8,
            "count": 226
           },
           {
            "bin_end": 7,
            "bin_start": 6.3999999999999995,
            "count": 185
           }
          ],
          "max": "7",
          "min": "1",
          "nan_count": 0,
          "unique_count": 7
         }
        },
        {
         "dtype": "int64",
         "name": "DAY_OF_MONTH",
         "stats": {
          "histogram": [
           {
            "bin_end": 4,
            "bin_start": 1,
            "count": 152
           },
           {
            "bin_end": 7,
            "bin_start": 4,
            "count": 167
           },
           {
            "bin_end": 10,
            "bin_start": 7,
            "count": 213
           },
           {
            "bin_end": 13,
            "bin_start": 10,
            "count": 181
           },
           {
            "bin_end": 16,
            "bin_start": 13,
            "count": 188
           },
           {
            "bin_end": 19,
            "bin_start": 16,
            "count": 120
           },
           {
            "bin_end": 22,
            "bin_start": 19,
            "count": 224
           },
           {
            "bin_end": 25,
            "bin_start": 22,
            "count": 192
           },
           {
            "bin_end": 28,
            "bin_start": 25,
            "count": 105
           },
           {
            "bin_end": 31,
            "bin_start": 28,
            "count": 231
           }
          ],
          "max": "31",
          "min": "1",
          "nan_count": 0,
          "unique_count": 31
         }
        },
        {
         "dtype": "object",
         "name": "TAIL_NUM",
         "stats": {
          "categories": [
           {
            "count": 59,
            "name": "N225DL"
           },
           {
            "count": 53,
            "name": "N242DL"
           },
           {
            "count": 1661,
            "name": "480 others"
           }
          ],
          "nan_count": 0,
          "unique_count": 482
         }
        },
        {
         "dtype": "object",
         "name": "FLIGHT_STATUS",
         "stats": {
          "categories": [
           {
            "count": 1773,
            "name": "ontime"
           }
          ],
          "nan_count": 0,
          "unique_count": 1
         }
        },
        {
         "dtype": "int64",
         "name": "dep_delay_in_min",
         "stats": {
          "histogram": [
           {
            "bin_end": -42,
            "bin_start": -54,
            "count": 470
           },
           {
            "bin_end": -30,
            "bin_start": -42,
            "count": 176
           },
           {
            "bin_end": -18,
            "bin_start": -30,
            "count": 0
           },
           {
            "bin_end": -6,
            "bin_start": -18,
            "count": 117
           },
           {
            "bin_end": 6,
            "bin_start": -6,
            "count": 880
           },
           {
            "bin_end": 18,
            "bin_start": 6,
            "count": 77
           },
           {
            "bin_end": 30,
            "bin_start": 18,
            "count": 21
           },
           {
            "bin_end": 42,
            "bin_start": 30,
            "count": 2
           },
           {
            "bin_end": 54,
            "bin_start": 42,
            "count": 16
           },
           {
            "bin_end": 66,
            "bin_start": 54,
            "count": 14
           }
          ],
          "max": "66",
          "min": "-54",
          "nan_count": 0,
          "unique_count": 72
         }
        },
        {
         "dtype": "int64",
         "name": "_deepnote_index_column"
        }
       ],
       "row_count": 1773,
       "rows": [
        {
         "CARRIER": "OH",
         "CRS_DEP_TIME": 1455,
         "DAY_OF_MONTH": 1,
         "DAY_WEEK": 4,
         "DEP_TIME": 1455,
         "DEST": "JFK",
         "DISTANCE": 184,
         "FLIGHT_STATUS": "ontime",
         "FL_DATE": "01/01/2004",
         "FL_NUM": 5935,
         "ORIGIN": "BWI",
         "TAIL_NUM": "N940CA",
         "Weather": 0,
         "_deepnote_index_column": 0,
         "dep_delay_in_min": 0
        },
        {
         "CARRIER": "DH",
         "CRS_DEP_TIME": 1640,
         "DAY_OF_MONTH": 1,
         "DAY_WEEK": 4,
         "DEP_TIME": 1640,
         "DEST": "JFK",
         "DISTANCE": 213,
         "FLIGHT_STATUS": "ontime",
         "FL_DATE": "01/01/2004",
         "FL_NUM": 6155,
         "ORIGIN": "DCA",
         "TAIL_NUM": "N405FJ",
         "Weather": 0,
         "_deepnote_index_column": 1,
         "dep_delay_in_min": 0
        },
        {
         "CARRIER": "DH",
         "CRS_DEP_TIME": 1245,
         "DAY_OF_MONTH": 1,
         "DAY_WEEK": 4,
         "DEP_TIME": 1245,
         "DEST": "LGA",
         "DISTANCE": 229,
         "FLIGHT_STATUS": "ontime",
         "FL_DATE": "01/01/2004",
         "FL_NUM": 7208,
         "ORIGIN": "IAD",
         "TAIL_NUM": "N695BR",
         "Weather": 0,
         "_deepnote_index_column": 2,
         "dep_delay_in_min": 0
        },
        {
         "CARRIER": "DH",
         "CRS_DEP_TIME": 1715,
         "DAY_OF_MONTH": 1,
         "DAY_WEEK": 4,
         "DEP_TIME": 1709,
         "DEST": "LGA",
         "DISTANCE": 229,
         "FLIGHT_STATUS": "ontime",
         "FL_DATE": "01/01/2004",
         "FL_NUM": 7215,
         "ORIGIN": "IAD",
         "TAIL_NUM": "N662BR",
         "Weather": 0,
         "_deepnote_index_column": 3,
         "dep_delay_in_min": -6
        },
        {
         "CARRIER": "DH",
         "CRS_DEP_TIME": 1039,
         "DAY_OF_MONTH": 1,
         "DAY_WEEK": 4,
         "DEP_TIME": 1035,
         "DEST": "LGA",
         "DISTANCE": 229,
         "FLIGHT_STATUS": "ontime",
         "FL_DATE": "01/01/2004",
         "FL_NUM": 7792,
         "ORIGIN": "IAD",
         "TAIL_NUM": "N698BR",
         "Weather": 0,
         "_deepnote_index_column": 4,
         "dep_delay_in_min": -4
        },
        {
         "CARRIER": "DH",
         "CRS_DEP_TIME": 840,
         "DAY_OF_MONTH": 1,
         "DAY_WEEK": 4,
         "DEP_TIME": 839,
         "DEST": "JFK",
         "DISTANCE": 228,
         "FLIGHT_STATUS": "ontime",
         "FL_DATE": "01/01/2004",
         "FL_NUM": 7800,
         "ORIGIN": "IAD",
         "TAIL_NUM": "N687BR",
         "Weather": 0,
         "_deepnote_index_column": 5,
         "dep_delay_in_min": -1
        },
        {
         "CARRIER": "DH",
         "CRS_DEP_TIME": 1240,
         "DAY_OF_MONTH": 1,
         "DAY_WEEK": 4,
         "DEP_TIME": 1243,
         "DEST": "JFK",
         "DISTANCE": 228,
         "FLIGHT_STATUS": "ontime",
         "FL_DATE": "01/01/2004",
         "FL_NUM": 7806,
         "ORIGIN": "IAD",
         "TAIL_NUM": "N321UE",
         "Weather": 0,
         "_deepnote_index_column": 6,
         "dep_delay_in_min": 3
        },
        {
         "CARRIER": "DH",
         "CRS_DEP_TIME": 1645,
         "DAY_OF_MONTH": 1,
         "DAY_WEEK": 4,
         "DEP_TIME": 1644,
         "DEST": "JFK",
         "DISTANCE": 228,
         "FLIGHT_STATUS": "ontime",
         "FL_DATE": "01/01/2004",
         "FL_NUM": 7810,
         "ORIGIN": "IAD",
         "TAIL_NUM": "N301UE",
         "Weather": 0,
         "_deepnote_index_column": 7,
         "dep_delay_in_min": -1
        },
        {
         "CARRIER": "DH",
         "CRS_DEP_TIME": 1715,
         "DAY_OF_MONTH": 1,
         "DAY_WEEK": 4,
         "DEP_TIME": 1710,
         "DEST": "JFK",
         "DISTANCE": 228,
         "FLIGHT_STATUS": "ontime",
         "FL_DATE": "01/01/2004",
         "FL_NUM": 7812,
         "ORIGIN": "IAD",
         "TAIL_NUM": "N328UE",
         "Weather": 0,
         "_deepnote_index_column": 8,
         "dep_delay_in_min": -5
        },
        {
         "CARRIER": "DH",
         "CRS_DEP_TIME": 2120,
         "DAY_OF_MONTH": 1,
         "DAY_WEEK": 4,
         "DEP_TIME": 2129,
         "DEST": "JFK",
         "DISTANCE": 228,
         "FLIGHT_STATUS": "ontime",
         "FL_DATE": "01/01/2004",
         "FL_NUM": 7814,
         "ORIGIN": "IAD",
         "TAIL_NUM": "N685BR",
         "Weather": 0,
         "_deepnote_index_column": 9,
         "dep_delay_in_min": 9
        }
       ]
      },
      "text/html": [
       "<div>\n",
       "<style scoped>\n",
       "    .dataframe tbody tr th:only-of-type {\n",
       "        vertical-align: middle;\n",
       "    }\n",
       "\n",
       "    .dataframe tbody tr th {\n",
       "        vertical-align: top;\n",
       "    }\n",
       "\n",
       "    .dataframe thead th {\n",
       "        text-align: right;\n",
       "    }\n",
       "</style>\n",
       "<table border=\"1\" class=\"dataframe\">\n",
       "  <thead>\n",
       "    <tr style=\"text-align: right;\">\n",
       "      <th></th>\n",
       "      <th>CRS_DEP_TIME</th>\n",
       "      <th>CARRIER</th>\n",
       "      <th>DEP_TIME</th>\n",
       "      <th>DEST</th>\n",
       "      <th>DISTANCE</th>\n",
       "      <th>FL_DATE</th>\n",
       "      <th>FL_NUM</th>\n",
       "      <th>ORIGIN</th>\n",
       "      <th>Weather</th>\n",
       "      <th>DAY_WEEK</th>\n",
       "      <th>DAY_OF_MONTH</th>\n",
       "      <th>TAIL_NUM</th>\n",
       "      <th>FLIGHT_STATUS</th>\n",
       "      <th>dep_delay_in_min</th>\n",
       "    </tr>\n",
       "  </thead>\n",
       "  <tbody>\n",
       "    <tr>\n",
       "      <th>0</th>\n",
       "      <td>1455</td>\n",
       "      <td>OH</td>\n",
       "      <td>1455</td>\n",
       "      <td>JFK</td>\n",
       "      <td>184</td>\n",
       "      <td>01/01/2004</td>\n",
       "      <td>5935</td>\n",
       "      <td>BWI</td>\n",
       "      <td>0</td>\n",
       "      <td>4</td>\n",
       "      <td>1</td>\n",
       "      <td>N940CA</td>\n",
       "      <td>ontime</td>\n",
       "      <td>0</td>\n",
       "    </tr>\n",
       "    <tr>\n",
       "      <th>1</th>\n",
       "      <td>1640</td>\n",
       "      <td>DH</td>\n",
       "      <td>1640</td>\n",
       "      <td>JFK</td>\n",
       "      <td>213</td>\n",
       "      <td>01/01/2004</td>\n",
       "      <td>6155</td>\n",
       "      <td>DCA</td>\n",
       "      <td>0</td>\n",
       "      <td>4</td>\n",
       "      <td>1</td>\n",
       "      <td>N405FJ</td>\n",
       "      <td>ontime</td>\n",
       "      <td>0</td>\n",
       "    </tr>\n",
       "    <tr>\n",
       "      <th>2</th>\n",
       "      <td>1245</td>\n",
       "      <td>DH</td>\n",
       "      <td>1245</td>\n",
       "      <td>LGA</td>\n",
       "      <td>229</td>\n",
       "      <td>01/01/2004</td>\n",
       "      <td>7208</td>\n",
       "      <td>IAD</td>\n",
       "      <td>0</td>\n",
       "      <td>4</td>\n",
       "      <td>1</td>\n",
       "      <td>N695BR</td>\n",
       "      <td>ontime</td>\n",
       "      <td>0</td>\n",
       "    </tr>\n",
       "    <tr>\n",
       "      <th>3</th>\n",
       "      <td>1715</td>\n",
       "      <td>DH</td>\n",
       "      <td>1709</td>\n",
       "      <td>LGA</td>\n",
       "      <td>229</td>\n",
       "      <td>01/01/2004</td>\n",
       "      <td>7215</td>\n",
       "      <td>IAD</td>\n",
       "      <td>0</td>\n",
       "      <td>4</td>\n",
       "      <td>1</td>\n",
       "      <td>N662BR</td>\n",
       "      <td>ontime</td>\n",
       "      <td>-6</td>\n",
       "    </tr>\n",
       "    <tr>\n",
       "      <th>4</th>\n",
       "      <td>1039</td>\n",
       "      <td>DH</td>\n",
       "      <td>1035</td>\n",
       "      <td>LGA</td>\n",
       "      <td>229</td>\n",
       "      <td>01/01/2004</td>\n",
       "      <td>7792</td>\n",
       "      <td>IAD</td>\n",
       "      <td>0</td>\n",
       "      <td>4</td>\n",
       "      <td>1</td>\n",
       "      <td>N698BR</td>\n",
       "      <td>ontime</td>\n",
       "      <td>-4</td>\n",
       "    </tr>\n",
       "    <tr>\n",
       "      <th>...</th>\n",
       "      <td>...</td>\n",
       "      <td>...</td>\n",
       "      <td>...</td>\n",
       "      <td>...</td>\n",
       "      <td>...</td>\n",
       "      <td>...</td>\n",
       "      <td>...</td>\n",
       "      <td>...</td>\n",
       "      <td>...</td>\n",
       "      <td>...</td>\n",
       "      <td>...</td>\n",
       "      <td>...</td>\n",
       "      <td>...</td>\n",
       "      <td>...</td>\n",
       "    </tr>\n",
       "    <tr>\n",
       "      <th>2196</th>\n",
       "      <td>645</td>\n",
       "      <td>RU</td>\n",
       "      <td>644</td>\n",
       "      <td>EWR</td>\n",
       "      <td>199</td>\n",
       "      <td>1/31/2004</td>\n",
       "      <td>2761</td>\n",
       "      <td>DCA</td>\n",
       "      <td>0</td>\n",
       "      <td>6</td>\n",
       "      <td>31</td>\n",
       "      <td>N15555</td>\n",
       "      <td>ontime</td>\n",
       "      <td>-1</td>\n",
       "    </tr>\n",
       "    <tr>\n",
       "      <th>2197</th>\n",
       "      <td>1700</td>\n",
       "      <td>RU</td>\n",
       "      <td>1653</td>\n",
       "      <td>EWR</td>\n",
       "      <td>213</td>\n",
       "      <td>1/31/2004</td>\n",
       "      <td>2497</td>\n",
       "      <td>IAD</td>\n",
       "      <td>0</td>\n",
       "      <td>6</td>\n",
       "      <td>31</td>\n",
       "      <td>N16976</td>\n",
       "      <td>ontime</td>\n",
       "      <td>-47</td>\n",
       "    </tr>\n",
       "    <tr>\n",
       "      <th>2198</th>\n",
       "      <td>1600</td>\n",
       "      <td>RU</td>\n",
       "      <td>1558</td>\n",
       "      <td>EWR</td>\n",
       "      <td>199</td>\n",
       "      <td>1/31/2004</td>\n",
       "      <td>2361</td>\n",
       "      <td>DCA</td>\n",
       "      <td>0</td>\n",
       "      <td>6</td>\n",
       "      <td>31</td>\n",
       "      <td>N14902</td>\n",
       "      <td>ontime</td>\n",
       "      <td>-42</td>\n",
       "    </tr>\n",
       "    <tr>\n",
       "      <th>2199</th>\n",
       "      <td>1359</td>\n",
       "      <td>RU</td>\n",
       "      <td>1403</td>\n",
       "      <td>EWR</td>\n",
       "      <td>199</td>\n",
       "      <td>1/31/2004</td>\n",
       "      <td>2216</td>\n",
       "      <td>DCA</td>\n",
       "      <td>0</td>\n",
       "      <td>6</td>\n",
       "      <td>31</td>\n",
       "      <td>N16961</td>\n",
       "      <td>ontime</td>\n",
       "      <td>44</td>\n",
       "    </tr>\n",
       "    <tr>\n",
       "      <th>2200</th>\n",
       "      <td>1730</td>\n",
       "      <td>RU</td>\n",
       "      <td>1736</td>\n",
       "      <td>EWR</td>\n",
       "      <td>199</td>\n",
       "      <td>1/31/2004</td>\n",
       "      <td>2097</td>\n",
       "      <td>DCA</td>\n",
       "      <td>0</td>\n",
       "      <td>6</td>\n",
       "      <td>31</td>\n",
       "      <td>N13994</td>\n",
       "      <td>ontime</td>\n",
       "      <td>6</td>\n",
       "    </tr>\n",
       "  </tbody>\n",
       "</table>\n",
       "<p>1773 rows × 14 columns</p>\n",
       "</div>"
      ],
      "text/plain": [
       "      CRS_DEP_TIME CARRIER  DEP_TIME DEST  DISTANCE     FL_DATE  FL_NUM  \\\n",
       "0             1455      OH      1455  JFK       184  01/01/2004    5935   \n",
       "1             1640      DH      1640  JFK       213  01/01/2004    6155   \n",
       "2             1245      DH      1245  LGA       229  01/01/2004    7208   \n",
       "3             1715      DH      1709  LGA       229  01/01/2004    7215   \n",
       "4             1039      DH      1035  LGA       229  01/01/2004    7792   \n",
       "...            ...     ...       ...  ...       ...         ...     ...   \n",
       "2196           645      RU       644  EWR       199   1/31/2004    2761   \n",
       "2197          1700      RU      1653  EWR       213   1/31/2004    2497   \n",
       "2198          1600      RU      1558  EWR       199   1/31/2004    2361   \n",
       "2199          1359      RU      1403  EWR       199   1/31/2004    2216   \n",
       "2200          1730      RU      1736  EWR       199   1/31/2004    2097   \n",
       "\n",
       "     ORIGIN  Weather  DAY_WEEK  DAY_OF_MONTH TAIL_NUM FLIGHT_STATUS  \\\n",
       "0       BWI        0         4             1   N940CA        ontime   \n",
       "1       DCA        0         4             1   N405FJ        ontime   \n",
       "2       IAD        0         4             1   N695BR        ontime   \n",
       "3       IAD        0         4             1   N662BR        ontime   \n",
       "4       IAD        0         4             1   N698BR        ontime   \n",
       "...     ...      ...       ...           ...      ...           ...   \n",
       "2196    DCA        0         6            31   N15555        ontime   \n",
       "2197    IAD        0         6            31   N16976        ontime   \n",
       "2198    DCA        0         6            31   N14902        ontime   \n",
       "2199    DCA        0         6            31   N16961        ontime   \n",
       "2200    DCA        0         6            31   N13994        ontime   \n",
       "\n",
       "      dep_delay_in_min  \n",
       "0                    0  \n",
       "1                    0  \n",
       "2                    0  \n",
       "3                   -6  \n",
       "4                   -4  \n",
       "...                ...  \n",
       "2196                -1  \n",
       "2197               -47  \n",
       "2198               -42  \n",
       "2199                44  \n",
       "2200                 6  \n",
       "\n",
       "[1773 rows x 14 columns]"
      ]
     },
     "execution_count": 8,
     "metadata": {},
     "output_type": "execute_result"
    }
   ],
   "source": [
    "delays_df[delays_df['FLIGHT_STATUS'] == 'ontime']"
   ]
  },
  {
   "cell_type": "markdown",
   "metadata": {
    "cell_id": "8f82a9c7e6df48899037f77414875564",
    "deepnote_cell_type": "markdown"
   },
   "source": [
    "# Data visualization"
   ]
  },
  {
   "cell_type": "code",
   "execution_count": null,
   "metadata": {
    "cell_id": "ed9d41c77192423bb3b048f18c2ccb65",
    "deepnote_cell_type": "code",
    "deepnote_to_be_reexecuted": false,
    "execution_millis": 3799,
    "execution_start": 1711504432167,
    "source_hash": null
   },
   "outputs": [
    {
     "data": {
      "image/png": "[encoded data removed]",
      "text/plain": [
       "<Figure size 1500x2500 with 14 Axes>"
      ]
     },
     "metadata": {
      "image/png": {
       "height": 2490,
       "width": 1486
      }
     },
     "output_type": "display_data"
    }
   ],
   "source": [
    "# Histogram to overview the data\n",
    "\n",
    "num_columns = 3\n",
    "num_rows = math.ceil(len(delays_df.columns) / num_columns)\n",
    "\n",
    "fig, axes = plt.subplots(num_rows, num_columns, figsize=(15, 5*num_rows))\n",
    "\n",
    "axes = axes.flatten() if num_rows > 1 else [axes]\n",
    "\n",
    "for i, column in enumerate(delays_df.columns):\n",
    "    ax = axes[i]\n",
    "    ax.hist(delays_df[column])\n",
    "    ax.set_axisbelow(True)\n",
    "    ax.grid(which='major', color='grey', linestyle='--')\n",
    "    ax.set_title(f'Histogram of {column}')\n",
    "\n",
    "for i in range(len(delays_df.columns), num_rows*num_columns):\n",
    "    fig.delaxes(axes[i])\n",
    "\n",
    "plt.tight_layout()\n",
    "plt.show()"
   ]
  },
  {
   "cell_type": "code",
   "execution_count": null,
   "metadata": {
    "cell_id": "ffeb1f40f9064042b89c7fbe99575e2a",
    "deepnote_cell_type": "code",
    "deepnote_to_be_reexecuted": false,
    "execution_millis": 384,
    "execution_start": 1711504435969,
    "source_hash": null
   },
   "outputs": [
    {
     "data": {
      "image/png": "[encoded data removed]",
      "text/plain": [
       "<Figure size 1000x600 with 1 Axes>"
      ]
     },
     "metadata": {
      "image/png": {
       "height": 590,
       "width": 989
      }
     },
     "output_type": "display_data"
    }
   ],
   "source": [
    "# Counting the number of flights for each carrier and status\n",
    "flight_counts = delays_df.groupby(['CARRIER', 'FLIGHT_STATUS']).size().unstack(fill_value=0)\n",
    "\n",
    "# Plotting the stacked bar chart\n",
    "flight_counts.plot(kind='bar', stacked=True, figsize=(10, 6))\n",
    "plt.title('Flight Status by Carrier')\n",
    "plt.xlabel('Carrier')\n",
    "plt.ylabel('Number of Flights')\n",
    "plt.xticks(rotation=45)\n",
    "plt.legend(title='Flight Status')\n",
    "plt.tight_layout()\n",
    "plt.show()"
   ]
  },
  {
   "cell_type": "code",
   "execution_count": null,
   "metadata": {
    "cell_id": "98cfe7167870432291a7521ff2792b80",
    "deepnote_cell_type": "code",
    "deepnote_to_be_reexecuted": false,
    "execution_millis": 348,
    "execution_start": 1711504436345,
    "source_hash": null
   },
   "outputs": [
    {
     "data": {
      "image/png": "[encoded data removed]",
      "text/plain": [
       "<Figure size 1000x600 with 1 Axes>"
      ]
     },
     "metadata": {
      "image/png": {
       "height": 547,
       "width": 841
      }
     },
     "output_type": "display_data"
    }
   ],
   "source": [
    "# Filter the DataFrame to include only data where delay is more than -200\n",
    "filtered_delays_df = delays_df[(delays_df['dep_delay_in_min'] > -200) & (delays_df['FLIGHT_STATUS'] == 'delayed')]\n",
    "\n",
    "\n",
    "# Plotting distribution of delay in minutes\n",
    "plt.figure(figsize=(10, 6))\n",
    "ax = sns.histplot(data=filtered_delays_df, x='dep_delay_in_min', bins=range(-200,400,10), kde=True, color='blue')\n",
    "\n",
    "# Calculate mean delay\n",
    "mean_delay = filtered_delays_df['dep_delay_in_min'].mean()\n",
    "\n",
    "# Add vertical line for the mean\n",
    "ax.axvline(mean_delay, color='red', linestyle='--', label=f'Mean: {mean_delay:.2f}')\n",
    "ax.text(x=mean_delay, y=30, s=f'Mean: {mean_delay:.2f}', color='red', verticalalignment='top', fontsize=12)\n",
    "\n",
    "# Set labels and title\n",
    "plt.xlabel('Delay in Minutes (1 box = 10 minutes)')\n",
    "plt.ylabel('Frequency')\n",
    "plt.title('Distribution of Delay in Minutes for Delayed Flights (Delay > -200)')\n",
    "\n",
    "# Show legend\n",
    "plt.legend()\n",
    "\n",
    "# Show the plot\n",
    "plt.show()"
   ]
  },
  {
   "cell_type": "code",
   "execution_count": null,
   "metadata": {
    "cell_id": "7907cabfd909423683a64fd71d01bc19",
    "deepnote_cell_type": "code",
    "deepnote_to_be_reexecuted": false,
    "execution_millis": 224,
    "execution_start": 1711504436696,
    "source_hash": null
   },
   "outputs": [
    {
     "data": {
      "image/png": "[encoded data removed]",
      "text/plain": [
       "<Figure size 1000x600 with 1 Axes>"
      ]
     },
     "metadata": {
      "image/png": {
       "height": 547,
       "width": 850
      }
     },
     "output_type": "display_data"
    }
   ],
   "source": [
    "# Filter the DataFrame to include only data where flight status is 'ontime'\n",
    "filtered_ontime_df = delays_df[delays_df['FLIGHT_STATUS'] == 'ontime']\n",
    "\n",
    "# Plotting distribution of delay in minutes\n",
    "plt.figure(figsize=(10, 6))\n",
    "ax = sns.histplot(data=filtered_ontime_df, x='dep_delay_in_min', bins=range(-80, 100, 5), kde=True, color='blue')\n",
    "\n",
    "# Calculate mean delay\n",
    "mean_delay = filtered_ontime_df['dep_delay_in_min'].mean()\n",
    "\n",
    "# Add vertical line for the mean\n",
    "ax.axvline(mean_delay, color='red', linestyle='--', label=f'Mean: {mean_delay:.2f}')\n",
    "ax.text(x=mean_delay, y=200, s=f'Mean: {mean_delay:.2f}', color='red', verticalalignment='top', fontsize=12)\n",
    "\n",
    "# Set labels and title\n",
    "plt.xlabel('Delay in Minutes (1 box = 5 minutes)')\n",
    "plt.ylabel('Frequency')\n",
    "plt.title('Distribution of Delay in Minutes for On-Time Flights')\n",
    "\n",
    "# Show legend\n",
    "plt.legend()\n",
    "\n",
    "# Show the plot\n",
    "plt.show()\n"
   ]
  },
  {
   "cell_type": "markdown",
   "metadata": {
    "cell_id": "4a4956544e61494a8a4f43938006843f",
    "deepnote_cell_type": "markdown"
   },
   "source": [
    "# K-Nearest Neighbors"
   ]
  },
  {
   "cell_type": "code",
   "execution_count": null,
   "metadata": {
    "cell_id": "0416f579e6444bf1bc00a28c03165aaf",
    "deepnote_cell_type": "code",
    "deepnote_to_be_reexecuted": false,
    "execution_millis": 258,
    "execution_start": 1711504436924,
    "source_hash": null
   },
   "outputs": [],
   "source": [
    "# Make a copy for the analysis\n",
    "delays_df1 = delays_df.copy()"
   ]
  },
  {
   "cell_type": "code",
   "execution_count": null,
   "metadata": {
    "cell_id": "8510d1f17eaf4036aae0df66933a7964",
    "deepnote_cell_type": "code",
    "deepnote_to_be_reexecuted": false,
    "execution_millis": 251,
    "execution_start": 1711504436932,
    "source_hash": null
   },
   "outputs": [],
   "source": [
    "# Convert categorical variables into numerical form\n",
    "label_encoders = {}\n",
    "for column in ['CARRIER', 'DEST', 'FL_DATE', 'ORIGIN', 'TAIL_NUM', 'FLIGHT_STATUS']:\n",
    "    label_encoders[column] = LabelEncoder()\n",
    "    delays_df1[column] = label_encoders[column].fit_transform(delays_df1[column])"
   ]
  },
  {
   "cell_type": "code",
   "execution_count": null,
   "metadata": {
    "cell_id": "9a5fdb45670847afae00c0fcacb166c2",
    "deepnote_cell_type": "code",
    "deepnote_to_be_reexecuted": false,
    "execution_millis": 246,
    "execution_start": 1711504436937,
    "source_hash": null
   },
   "outputs": [
    {
     "name": "stdout",
     "output_type": "stream",
     "text": [
      "(1760, 13) (441, 13)\n"
     ]
    }
   ],
   "source": [
    "# Define features and target variable\n",
    "X = delays_df1.drop(columns=['FLIGHT_STATUS'])\n",
    "y = delays_df1['FLIGHT_STATUS']\n",
    "\n",
    "# Split the dataset into training and testing sets\n",
    "X_train, X_test, y_train, y_test = train_test_split(X, y, test_size=0.2, random_state=5)\n",
    "print(X_train.shape, X_test.shape)"
   ]
  },
  {
   "cell_type": "code",
   "execution_count": null,
   "metadata": {
    "cell_id": "7ce68da7724a40fb9362b6c7003d9499",
    "deepnote_cell_type": "code",
    "deepnote_to_be_reexecuted": false,
    "execution_millis": 228,
    "execution_start": 1711504436956,
    "source_hash": null
   },
   "outputs": [],
   "source": [
    "# Normalize the features\n",
    "scaler = StandardScaler()\n",
    "X_train = scaler.fit_transform(X_train)\n",
    "X_test = scaler.transform(X_test)"
   ]
  },
  {
   "cell_type": "code",
   "execution_count": null,
   "metadata": {
    "cell_id": "25cca47d78174d409ab8e095aaf1fcd9",
    "deepnote_cell_type": "code",
    "deepnote_to_be_reexecuted": false,
    "execution_millis": 221,
    "execution_start": 1711504436963,
    "source_hash": null
   },
   "outputs": [
    {
     "name": "stdout",
     "output_type": "stream",
     "text": [
      "Accuracy for k = 1 : 0.8458049886621315\n",
      "Accuracy for k = 2 : 0.8321995464852607\n",
      "Accuracy for k = 3 : 0.8798185941043084\n",
      "Accuracy for k = 4 : 0.8707482993197279\n",
      "Accuracy for k = 5 : 0.873015873015873\n",
      "Accuracy for k = 6 : 0.8775510204081632\n",
      "Accuracy for k = 7 : 0.8684807256235828\n",
      "Accuracy for k = 8 : 0.8662131519274376\n",
      "Accuracy for k = 9 : 0.8684807256235828\n",
      "Accuracy for k = 10 : 0.873015873015873\n",
      "Accuracy for k = 11 : 0.8662131519274376\n"
     ]
    }
   ],
   "source": [
    "# Initialize list to store accuracy for different k values\n",
    "accuracies = []\n",
    "\n",
    "# Loop through different k values\n",
    "for k in range(1, 12):\n",
    "    # Initialize k-NN classifier\n",
    "    knn_classifier = KNeighborsClassifier(n_neighbors=k)\n",
    "    \n",
    "    # Train the classifier\n",
    "    knn_classifier.fit(X_train, y_train)\n",
    "    \n",
    "    # Predictions\n",
    "    y_pred = knn_classifier.predict(X_test)\n",
    "    \n",
    "    # Calculate accuracy\n",
    "    accuracy = accuracy_score(y_test, y_pred)\n",
    "    accuracies.append(accuracy)\n",
    "\n",
    "    # Print results\n",
    "    print(\"Accuracy for k =\", k, \":\", accuracy)"
   ]
  },
  {
   "cell_type": "code",
   "execution_count": null,
   "metadata": {
    "cell_id": "99057594bfae4e5daf20cd0ef2483895",
    "deepnote_cell_type": "code",
    "deepnote_to_be_reexecuted": false,
    "execution_millis": 213,
    "execution_start": 1711504437204,
    "source_hash": null
   },
   "outputs": [
    {
     "data": {
      "image/png": "[encoded data removed]",
      "text/plain": [
       "<Figure size 640x480 with 1 Axes>"
      ]
     },
     "metadata": {
      "image/png": {
       "height": 455,
       "width": 576
      }
     },
     "output_type": "display_data"
    }
   ],
   "source": [
    "# Plotting the results\n",
    "import matplotlib.pyplot as plt\n",
    "\n",
    "plt.plot(range(1, 12), accuracies, marker='o')\n",
    "plt.xlabel('k')\n",
    "plt.ylabel('Accuracy')\n",
    "plt.title('k-NN Accuracy for Different Values of k')\n",
    "plt.grid(True)\n",
    "\n",
    "# Print results\n",
    "plt.show()"
   ]
  },
  {
   "cell_type": "markdown",
   "metadata": {
    "cell_id": "8b1c36081adf4fcea5c58f05268cac28",
    "deepnote_cell_type": "markdown"
   },
   "source": [
    "# Naive Bayes Classifier"
   ]
  },
  {
   "cell_type": "code",
   "execution_count": null,
   "metadata": {
    "cell_id": "3eb1495960ff456cbfaeca9069ec5cc4",
    "deepnote_cell_type": "code",
    "deepnote_to_be_reexecuted": false,
    "execution_millis": 193,
    "execution_start": 1711504437400,
    "source_hash": null
   },
   "outputs": [],
   "source": [
    "# Make a copy for the analysis\n",
    "delays_df2 = delays_df.copy()"
   ]
  },
  {
   "cell_type": "code",
   "execution_count": null,
   "metadata": {
    "cell_id": "f95e1b8e31754043a87d0118296d926f",
    "deepnote_cell_type": "code",
    "deepnote_to_be_reexecuted": false,
    "execution_millis": 192,
    "execution_start": 1711504437401,
    "source_hash": null
   },
   "outputs": [],
   "source": [
    "# Convert the day week column into categorical data\n",
    "delays_df2.DAY_WEEK = delays_df2.DAY_WEEK.astype('category')"
   ]
  },
  {
   "cell_type": "code",
   "execution_count": null,
   "metadata": {
    "cell_id": "b4b3ee975d4a43be9c90c2acb71a4e81",
    "deepnote_cell_type": "code",
    "deepnote_to_be_reexecuted": false,
    "execution_millis": 192,
    "execution_start": 1711504437402,
    "source_hash": null
   },
   "outputs": [],
   "source": [
    "# Create the necesary bins\n",
    "delays_df2.CRS_DEP_TIME = [round(t / 100) for t in delays_df2.CRS_DEP_TIME]\n",
    "delays_df2.CRS_DEP_TIME = delays_df2.CRS_DEP_TIME.astype('category')"
   ]
  },
  {
   "cell_type": "code",
   "execution_count": null,
   "metadata": {
    "cell_id": "99ea224d656546019c83f50a221fa9f1",
    "deepnote_cell_type": "code",
    "deepnote_to_be_reexecuted": false,
    "execution_millis": 190,
    "execution_start": 1711504437404,
    "source_hash": null
   },
   "outputs": [
    {
     "name": "stdout",
     "output_type": "stream",
     "text": [
      "(1760, 37) (441, 37)\n"
     ]
    }
   ],
   "source": [
    "# Split the data into training (80%) and testing (20%)\n",
    "predictors = ['DAY_WEEK', 'CRS_DEP_TIME', 'ORIGIN', 'DEST', 'CARRIER']\n",
    "outcome = 'FLIGHT_STATUS'\n",
    "X = pd.get_dummies(delays_df2[predictors])\n",
    "y = delays_df2['FLIGHT_STATUS']\n",
    "classes = ['ontime', 'delayed']\n",
    "X_train, X_valid, y_train, y_valid = train_test_split(X, y, test_size=0.2, random_state=5)\n",
    "print(X_train.shape, X_valid.shape)"
   ]
  },
  {
   "cell_type": "code",
   "execution_count": null,
   "metadata": {
    "cell_id": "bd55d3c1ecaa45f1bceab3c27491b4cb",
    "deepnote_cell_type": "code",
    "deepnote_to_be_reexecuted": false,
    "execution_millis": 385,
    "execution_start": 1711504437438,
    "source_hash": null
   },
   "outputs": [
    {
     "data": {
      "text/html": [
       "<style>#sk-container-id-1 {color: black;background-color: white;}#sk-container-id-1 pre{padding: 0;}#sk-container-id-1 div.sk-toggleable {background-color: white;}#sk-container-id-1 label.sk-toggleable__label {cursor: pointer;display: block;width: 100%;margin-bottom: 0;padding: 0.3em;box-sizing: border-box;text-align: center;}#sk-container-id-1 label.sk-toggleable__label-arrow:before {content: \"▸\";float: left;margin-right: 0.25em;color: #696969;}#sk-container-id-1 label.sk-toggleable__label-arrow:hover:before {color: black;}#sk-container-id-1 div.sk-estimator:hover label.sk-toggleable__label-arrow:before {color: black;}#sk-container-id-1 div.sk-toggleable__content {max-height: 0;max-width: 0;overflow: hidden;text-align: left;background-color: #f0f8ff;}#sk-container-id-1 div.sk-toggleable__content pre {margin: 0.2em;color: black;border-radius: 0.25em;background-color: #f0f8ff;}#sk-container-id-1 input.sk-toggleable__control:checked~div.sk-toggleable__content {max-height: 200px;max-width: 100%;overflow: auto;}#sk-container-id-1 input.sk-toggleable__control:checked~label.sk-toggleable__label-arrow:before {content: \"▾\";}#sk-container-id-1 div.sk-estimator input.sk-toggleable__control:checked~label.sk-toggleable__label {background-color: #d4ebff;}#sk-container-id-1 div.sk-label input.sk-toggleable__control:checked~label.sk-toggleable__label {background-color: #d4ebff;}#sk-container-id-1 input.sk-hidden--visually {border: 0;clip: rect(1px 1px 1px 1px);clip: rect(1px, 1px, 1px, 1px);height: 1px;margin: -1px;overflow: hidden;padding: 0;position: absolute;width: 1px;}#sk-container-id-1 div.sk-estimator {font-family: monospace;background-color: #f0f8ff;border: 1px dotted black;border-radius: 0.25em;box-sizing: border-box;margin-bottom: 0.5em;}#sk-container-id-1 div.sk-estimator:hover {background-color: #d4ebff;}#sk-container-id-1 div.sk-parallel-item::after {content: \"\";width: 100%;border-bottom: 1px solid gray;flex-grow: 1;}#sk-container-id-1 div.sk-label:hover label.sk-toggleable__label {background-color: #d4ebff;}#sk-container-id-1 div.sk-serial::before {content: \"\";position: absolute;border-left: 1px solid gray;box-sizing: border-box;top: 0;bottom: 0;left: 50%;z-index: 0;}#sk-container-id-1 div.sk-serial {display: flex;flex-direction: column;align-items: center;background-color: white;padding-right: 0.2em;padding-left: 0.2em;position: relative;}#sk-container-id-1 div.sk-item {position: relative;z-index: 1;}#sk-container-id-1 div.sk-parallel {display: flex;align-items: stretch;justify-content: center;background-color: white;position: relative;}#sk-container-id-1 div.sk-item::before, #sk-container-id-1 div.sk-parallel-item::before {content: \"\";position: absolute;border-left: 1px solid gray;box-sizing: border-box;top: 0;bottom: 0;left: 50%;z-index: -1;}#sk-container-id-1 div.sk-parallel-item {display: flex;flex-direction: column;z-index: 1;position: relative;background-color: white;}#sk-container-id-1 div.sk-parallel-item:first-child::after {align-self: flex-end;width: 50%;}#sk-container-id-1 div.sk-parallel-item:last-child::after {align-self: flex-start;width: 50%;}#sk-container-id-1 div.sk-parallel-item:only-child::after {width: 0;}#sk-container-id-1 div.sk-dashed-wrapped {border: 1px dashed gray;margin: 0 0.4em 0.5em 0.4em;box-sizing: border-box;padding-bottom: 0.4em;background-color: white;}#sk-container-id-1 div.sk-label label {font-family: monospace;font-weight: bold;display: inline-block;line-height: 1.2em;}#sk-container-id-1 div.sk-label-container {text-align: center;}#sk-container-id-1 div.sk-container {/* jupyter's `normalize.less` sets `[hidden] { display: none; }` but bootstrap.min.css set `[hidden] { display: none !important; }` so we also need the `!important` here to be able to override the default hidden behavior on the sphinx rendered scikit-learn.org. See: https://github.com/scikit-learn/scikit-learn/issues/21755 */display: inline-block !important;position: relative;}#sk-container-id-1 div.sk-text-repr-fallback {display: none;}</style><div id=\"sk-container-id-1\" class=\"sk-top-container\"><div class=\"sk-text-repr-fallback\"><pre>MultinomialNB(alpha=0.01)</pre><b>In a Jupyter environment, please rerun this cell to show the HTML representation or trust the notebook. <br />On GitHub, the HTML representation is unable to render, please try loading this page with nbviewer.org.</b></div><div class=\"sk-container\" hidden><div class=\"sk-item\"><div class=\"sk-estimator sk-toggleable\"><input class=\"sk-toggleable__control sk-hidden--visually\" id=\"sk-estimator-id-1\" type=\"checkbox\" checked><label for=\"sk-estimator-id-1\" class=\"sk-toggleable__label sk-toggleable__label-arrow\">MultinomialNB</label><div class=\"sk-toggleable__content\"><pre>MultinomialNB(alpha=0.01)</pre></div></div></div></div></div>"
      ],
      "text/plain": [
       "MultinomialNB(alpha=0.01)"
      ]
     },
     "execution_count": 23,
     "metadata": {},
     "output_type": "execute_result"
    }
   ],
   "source": [
    "# Calculate Naive Bayes Classifier\n",
    "delays_nb = MultinomialNB(alpha=0.01)\n",
    "delays_nb.fit(X_train, y_train)     "
   ]
  },
  {
   "cell_type": "code",
   "execution_count": null,
   "metadata": {
    "cell_id": "d340bb08ce704e3a9255dc0fbb35f914",
    "deepnote_cell_type": "code",
    "deepnote_to_be_reexecuted": false,
    "execution_millis": 363,
    "execution_start": 1711504437460,
    "source_hash": null
   },
   "outputs": [],
   "source": [
    "# Predict probabilities (Shows the belonging probabilities of each record to which class)\n",
    "predProb_train = delays_nb.predict_proba(X_train)\n",
    "predProb_valid = delays_nb.predict_proba(X_valid)"
   ]
  },
  {
   "cell_type": "code",
   "execution_count": null,
   "metadata": {
    "cell_id": "0ddaf2da12ca4001b3b24a8b6d07fcc0",
    "deepnote_cell_type": "code",
    "deepnote_to_be_reexecuted": false,
    "execution_millis": 362,
    "execution_start": 1711504437461,
    "source_hash": null
   },
   "outputs": [],
   "source": [
    "# Predict class membership (shows the class instead of probability by selecting the class with highest probability)\n",
    "y_valid_pred = delays_nb.predict(X_valid)\n",
    "y_train_pred = delays_nb.predict(X_train)"
   ]
  },
  {
   "cell_type": "code",
   "execution_count": null,
   "metadata": {
    "cell_id": "b0a74d166fae40b395db22ba9ee913b6",
    "deepnote_cell_type": "code",
    "deepnote_to_be_reexecuted": false,
    "execution_millis": 363,
    "execution_start": 1711504437461,
    "source_hash": null
   },
   "outputs": [
    {
     "name": "stdout",
     "output_type": "stream",
     "text": [
      "      actual predicted\n",
      "1748  ontime    ontime\n"
     ]
    }
   ],
   "source": [
    "# Run the model to predict a new data\n",
    "df = pd.concat([pd.DataFrame({'actual': y_valid, 'predicted': y_valid_pred})], axis=1)\n",
    "mask = ((X_valid.CARRIER_DL == 1) & (X_valid.DAY_WEEK_7 == 1) & (X_valid.CRS_DEP_TIME_10 == 1) &\n",
    "(X_valid.DEST_LGA == 1) & (X_valid.ORIGIN_DCA == 1))\n",
    "print(df[mask])"
   ]
  },
  {
   "cell_type": "code",
   "execution_count": null,
   "metadata": {
    "cell_id": "d39ff1be532545e7bebdc1288a855bdf",
    "deepnote_cell_type": "code",
    "deepnote_to_be_reexecuted": false,
    "execution_millis": 312,
    "execution_start": 1711504437512,
    "source_hash": null
   },
   "outputs": [
    {
     "data": {
      "text/plain": [
       "<sklearn.metrics._plot.confusion_matrix.ConfusionMatrixDisplay at 0x7f6408df60a0>"
      ]
     },
     "execution_count": 27,
     "metadata": {},
     "output_type": "execute_result"
    },
    {
     "data": {
      "image/png": "[encoded data removed]",
      "text/plain": [
       "<Figure size 640x480 with 2 Axes>"
      ]
     },
     "metadata": {
      "image/png": {
       "height": 432,
       "width": 533
      }
     },
     "output_type": "display_data"
    }
   ],
   "source": [
    "# Confusion Matrix\n",
    "confusion_matrix = metrics.confusion_matrix(df[\"actual\"], df[\"predicted\"])\n",
    "cm_display = metrics.ConfusionMatrixDisplay(confusion_matrix = confusion_matrix, display_labels = [False, True])\n",
    "\n",
    "# Print results\n",
    "cm_display.plot()"
   ]
  },
  {
   "cell_type": "code",
   "execution_count": null,
   "metadata": {
    "cell_id": "4d0b8e9b2e7346dc8377101536bc0f54",
    "deepnote_cell_type": "code",
    "deepnote_to_be_reexecuted": false,
    "execution_millis": 239,
    "execution_start": 1711504437723,
    "source_hash": null
   },
   "outputs": [
    {
     "name": "stdout",
     "output_type": "stream",
     "text": [
      "The accuracy of the model is: 0.7845804988662132\n",
      "The precision of the model is: 0.7916666666666666\n",
      "The sensitivity of the model is: 0.9855907780979827\n",
      "The specifity of the model is: 0.0425531914893617\n"
     ]
    }
   ],
   "source": [
    "# Analysis of the Naive Bayes\n",
    "\n",
    "Accuracy = metrics.accuracy_score(df[\"actual\"], df[\"predicted\"])\n",
    "Precision = metrics.precision_score(df[\"actual\"], df[\"predicted\"], pos_label='ontime')\n",
    "Sensitivity_recall = metrics.recall_score(df[\"actual\"], df[\"predicted\"], pos_label='ontime')\n",
    "Specificity = metrics.recall_score(df[\"actual\"], df[\"predicted\"], pos_label=\"delayed\")\n",
    "\n",
    "# Print results\n",
    "print(\"The accuracy of the model is:\", Accuracy)\n",
    "print(\"The precision of the model is:\", Precision)\n",
    "print(\"The sensitivity of the model is:\", Sensitivity_recall)\n",
    "print(\"The specifity of the model is:\", Specificity)"
   ]
  },
  {
   "cell_type": "markdown",
   "metadata": {
    "cell_id": "662d5ff12c154f3d992446705da1b064",
    "deepnote_app_block_visible": false,
    "deepnote_cell_type": "markdown"
   },
   "source": [
    "# Random Forest"
   ]
  },
  {
   "cell_type": "code",
   "execution_count": null,
   "metadata": {
    "cell_id": "5a3594b724024b51bdc0e6b5d7f4a862",
    "deepnote_cell_type": "code",
    "deepnote_to_be_reexecuted": false,
    "execution_millis": 227,
    "execution_start": 1711504437735,
    "source_hash": null
   },
   "outputs": [],
   "source": [
    "# Make a copy for the analysis\n",
    "delays_df3 = delays_df"
   ]
  },
  {
   "cell_type": "code",
   "execution_count": null,
   "metadata": {
    "cell_id": "5b0a0ef45f9442b19af2e5373ee09a52",
    "deepnote_cell_type": "code",
    "deepnote_to_be_reexecuted": false,
    "execution_millis": 213,
    "execution_start": 1711504437750,
    "source_hash": null
   },
   "outputs": [],
   "source": [
    "# Convert categorical variables into numerical form\n",
    "label_encoders = {}\n",
    "for column in ['CARRIER', 'DEST', 'FL_DATE', 'ORIGIN', 'TAIL_NUM', 'FLIGHT_STATUS']:\n",
    "    label_encoders[column] = LabelEncoder()\n",
    "    delays_df3[column] = label_encoders[column].fit_transform(delays_df3[column])"
   ]
  },
  {
   "cell_type": "code",
   "execution_count": null,
   "metadata": {
    "cell_id": "8d3b25cf528c4c6cbc64472997389e98",
    "deepnote_cell_type": "code",
    "deepnote_to_be_reexecuted": false,
    "execution_millis": 214,
    "execution_start": 1711504437750,
    "source_hash": null
   },
   "outputs": [
    {
     "name": "stdout",
     "output_type": "stream",
     "text": [
      "(1760, 13) (441, 37)\n"
     ]
    }
   ],
   "source": [
    "# Split the dataset into training and testing sets\n",
    "X = delays_df3.drop(columns=['FLIGHT_STATUS'])\n",
    "y = delays_df3['FLIGHT_STATUS']\n",
    "\n",
    "X_train, X_test, y_train, y_test = train_test_split(X, y, test_size=0.2, random_state=5)\n",
    "\n",
    "print(X_train.shape, X_valid.shape)"
   ]
  },
  {
   "cell_type": "code",
   "execution_count": null,
   "metadata": {
    "cell_id": "3b9f341bf8594cd3b6fa814cea14d68c",
    "deepnote_cell_type": "code",
    "deepnote_to_be_reexecuted": false,
    "execution_millis": 241,
    "execution_start": 1711504437758,
    "source_hash": null
   },
   "outputs": [],
   "source": [
    "# Train the Random Forest model\n",
    "rf_model = RandomForestClassifier(n_estimators=100, random_state=5)\n",
    "rf_model.fit(X_train, y_train)\n",
    "\n",
    "# Evaluate the model\n",
    "y_pred = rf_model.predict(X_test)"
   ]
  },
  {
   "cell_type": "code",
   "execution_count": null,
   "metadata": {
    "cell_id": "3d6b2411931149ffbb66a2bc62231ec8",
    "deepnote_cell_type": "code",
    "deepnote_to_be_reexecuted": false,
    "execution_millis": 147,
    "execution_start": 1711504438002,
    "source_hash": null
   },
   "outputs": [
    {
     "data": {
      "text/plain": [
       "<sklearn.metrics._plot.confusion_matrix.ConfusionMatrixDisplay at 0x7f6409706b50>"
      ]
     },
     "execution_count": 33,
     "metadata": {},
     "output_type": "execute_result"
    },
    {
     "data": {
      "image/png": "[encoded data removed]",
      "text/plain": [
       "<Figure size 640x480 with 2 Axes>"
      ]
     },
     "metadata": {
      "image/png": {
       "height": 432,
       "width": 533
      }
     },
     "output_type": "display_data"
    }
   ],
   "source": [
    "# Confusion Matrix\n",
    "confusion_matrix = metrics.confusion_matrix(y_test, y_pred)\n",
    "cm_display = metrics.ConfusionMatrixDisplay(confusion_matrix = confusion_matrix, display_labels = [False, True])\n",
    "\n",
    "# Print results\n",
    "cm_display.plot()"
   ]
  },
  {
   "cell_type": "code",
   "execution_count": null,
   "metadata": {
    "cell_id": "1633eb96b9924c0b9f30804a12d3ff76",
    "deepnote_cell_type": "code",
    "deepnote_to_be_reexecuted": false,
    "execution_millis": 473,
    "execution_start": 1711504438248,
    "source_hash": null
   },
   "outputs": [
    {
     "name": "stdout",
     "output_type": "stream",
     "text": [
      "Accuracy: 0.9183673469387755\n",
      "Classification Report:\n",
      "              precision    recall  f1-score   support\n",
      "\n",
      "           0       0.95      0.65      0.77        94\n",
      "           1       0.91      0.99      0.95       347\n",
      "\n",
      "    accuracy                           0.92       441\n",
      "   macro avg       0.93      0.82      0.86       441\n",
      "weighted avg       0.92      0.92      0.91       441\n",
      "\n"
     ]
    }
   ],
   "source": [
    "# Accuracy\n",
    "accuracy = accuracy_score(y_test, y_pred)\n",
    "print(\"Accuracy:\", accuracy)\n",
    "\n",
    "# Classification Report\n",
    "print(\"Classification Report:\")\n",
    "print(classification_report(y_test, y_pred))"
   ]
  },
  {
   "cell_type": "markdown",
   "metadata": {
    "created_in_deepnote_cell": true,
    "deepnote_cell_type": "markdown"
   },
   "source": [
    "<a style='text-decoration:none;line-height:16px;display:flex;color:#5B5B62;padding:10px;justify-content:end;' href='https://deepnote.com?utm_source=created-in-deepnote-cell&projectId=ee5b5d88-9344-4581-82f2-6d5d93207c3b' target=\"_blank\">\n",
    "<img alt='Created in deepnote.com' style='display:inline;max-height:16px;margin:0px;margin-right:7.5px;' src='data:image/svg+xml;base64,PD94bWwgdmVyc2lvbj0iMS4wIiBlbmNvZGluZz0iVVRGLTgiPz4KPHN2ZyB3aWR0aD0iODBweCIgaGVpZ2h0PSI4MHB4IiB2aWV3Qm94PSIwIDAgODAgODAiIHZlcnNpb249IjEuMSIgeG1sbnM9Imh0dHA6Ly93d3cudzMub3JnLzIwMDAvc3ZnIiB4bWxuczp4bGluaz0iaHR0cDovL3d3dy53My5vcmcvMTk5OS94bGluayI+CiAgICA8IS0tIEdlbmVyYXRvcjogU2tldGNoIDU0LjEgKDc2NDkwKSAtIGh0dHBzOi8vc2tldGNoYXBwLmNvbSAtLT4KICAgIDx0aXRsZT5Hcm91cCAzPC90aXRsZT4KICAgIDxkZXNjPkNyZWF0ZWQgd2l0aCBTa2V0Y2guPC9kZXNjPgogICAgPGcgaWQ9IkxhbmRpbmciIHN0cm9rZT0ibm9uZSIgc3Ryb2tlLXdpZHRoPSIxIiBmaWxsPSJub25lIiBmaWxsLXJ1bGU9ImV2ZW5vZGQiPgogICAgICAgIDxnIGlkPSJBcnRib2FyZCIgdHJhbnNmb3JtPSJ0cmFuc2xhdGUoLTEyMzUuMDAwMDAwLCAtNzkuMDAwMDAwKSI+CiAgICAgICAgICAgIDxnIGlkPSJHcm91cC0zIiB0cmFuc2Zvcm09InRyYW5zbGF0ZSgxMjM1LjAwMDAwMCwgNzkuMDAwMDAwKSI+CiAgICAgICAgICAgICAgICA8cG9seWdvbiBpZD0iUGF0aC0yMCIgZmlsbD0iIzAyNjVCNCIgcG9pbnRzPSIyLjM3NjIzNzYyIDgwIDM4LjA0NzY2NjcgODAgNTcuODIxNzgyMiA3My44MDU3NTkyIDU3LjgyMTc4MjIgMzIuNzU5MjczOSAzOS4xNDAyMjc4IDMxLjY4MzE2ODMiPjwvcG9seWdvbj4KICAgICAgICAgICAgICAgIDxwYXRoIGQ9Ik0zNS4wMDc3MTgsODAgQzQyLjkwNjIwMDcsNzYuNDU0OTM1OCA0Ny41NjQ5MTY3LDcxLjU0MjI2NzEgNDguOTgzODY2LDY1LjI2MTk5MzkgQzUxLjExMjI4OTksNTUuODQxNTg0MiA0MS42NzcxNzk1LDQ5LjIxMjIyODQgMjUuNjIzOTg0Niw0OS4yMTIyMjg0IEMyNS40ODQ5Mjg5LDQ5LjEyNjg0NDggMjkuODI2MTI5Niw0My4yODM4MjQ4IDM4LjY0NzU4NjksMzEuNjgzMTY4MyBMNzIuODcxMjg3MSwzMi41NTQ0MjUgTDY1LjI4MDk3Myw2Ny42NzYzNDIxIEw1MS4xMTIyODk5LDc3LjM3NjE0NCBMMzUuMDA3NzE4LDgwIFoiIGlkPSJQYXRoLTIyIiBmaWxsPSIjMDAyODY4Ij48L3BhdGg+CiAgICAgICAgICAgICAgICA8cGF0aCBkPSJNMCwzNy43MzA0NDA1IEwyNy4xMTQ1MzcsMC4yNTcxMTE0MzYgQzYyLjM3MTUxMjMsLTEuOTkwNzE3MDEgODAsMTAuNTAwMzkyNyA4MCwzNy43MzA0NDA1IEM4MCw2NC45NjA0ODgyIDY0Ljc3NjUwMzgsNzkuMDUwMzQxNCAzNC4zMjk1MTEzLDgwIEM0Ny4wNTUzNDg5LDc3LjU2NzA4MDggNTMuNDE4MjY3Nyw3MC4zMTM2MTAzIDUzLjQxODI2NzcsNTguMjM5NTg4NSBDNTMuNDE4MjY3Nyw0MC4xMjg1NTU3IDM2LjMwMzk1NDQsMzcuNzMwNDQwNSAyNS4yMjc0MTcsMzcuNzMwNDQwNSBDMTcuODQzMDU4NiwzNy43MzA0NDA1IDkuNDMzOTE5NjYsMzcuNzMwNDQwNSAwLDM3LjczMDQ0MDUgWiIgaWQ9IlBhdGgtMTkiIGZpbGw9IiMzNzkzRUYiPjwvcGF0aD4KICAgICAgICAgICAgPC9nPgogICAgICAgIDwvZz4KICAgIDwvZz4KPC9zdmc+' > </img>\n",
    "Created in <span style='font-weight:600;margin-left:4px;'>Deepnote</span></a>"
   ]
  }
 ],
 "metadata": {
  "deepnote_execution_queue": [],
  "deepnote_notebook_id": "af284c93a25246c19e0b994b33fab192",
  "deepnote_persisted_session": {
   "createdAt": "2024-03-27T02:15:23.044Z"
  },
  "kernelspec": {
   "display_name": "Python 3 (ipykernel)",
   "language": "python",
   "name": "python3"
  },
  "language_info": {
   "codemirror_mode": {
    "name": "ipython",
    "version": 3
   },
   "file_extension": ".py",
   "mimetype": "text/x-python",
   "name": "python",
   "nbconvert_exporter": "python",
   "pygments_lexer": "ipython3",
   "version": "3.11.5"
  }
 },
 "nbformat": 4,
 "nbformat_minor": 1
}
